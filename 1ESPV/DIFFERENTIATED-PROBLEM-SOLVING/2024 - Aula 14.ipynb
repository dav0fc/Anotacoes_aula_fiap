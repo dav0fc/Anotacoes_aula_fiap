{
 "cells": [
  {
   "cell_type": "code",
   "execution_count": 1,
   "id": "4ba5c9e7-6574-479d-96bc-13388a3cc320",
   "metadata": {
    "tags": []
   },
   "outputs": [
    {
     "name": "stdout",
     "output_type": "stream",
     "text": [
      "f(g(x)) = 6*x + (2*x + 1)**2 + 3\n",
      "Derivada de f(g(x)) em relação a x = 8*x + 10\n"
     ]
    }
   ],
   "source": [
    "import sympy as sp\n",
    "\n",
    "# Definindo as variáveis\n",
    "x = sp.symbols('x')\n",
    "\n",
    "# Definindo a função g(x)\n",
    "g_x = 2 * x + 1\n",
    "\n",
    "# Definindo a função f(u) onde u = g(x)\n",
    "u = sp.symbols('u')\n",
    "f_u = u**2 + 3 * u\n",
    "\n",
    "# Substituindo u por g(x) em f(u)\n",
    "f_g_x = f_u.subs(u, g_x)\n",
    "\n",
    "# Calculando a derivada de f(g(x)) em relação a x\n",
    "derivada = sp.diff(f_g_x, x)\n",
    "\n",
    "# Exibindo a função composta e sua derivada\n",
    "print(f\"f(g(x)) = {f_g_x}\")\n",
    "print(f\"Derivada de f(g(x)) em relação a x = {derivada}\")\n"
   ]
  },
  {
   "cell_type": "code",
   "execution_count": 3,
   "id": "59be5307-1c5d-48b0-89ee-e910f9543e35",
   "metadata": {
    "tags": []
   },
   "outputs": [
    {
     "name": "stdout",
     "output_type": "stream",
     "text": [
      "dP/dt = 10*t + 3\n",
      "dT/dP = 6*P**2 + 4\n",
      "dT/dt = (10*t + 3)*(6*(5*t**2 + 3*t + 2)**2 + 4)\n"
     ]
    }
   ],
   "source": [
    "import sympy as sp\n",
    "\n",
    "# Definindo as variáveis\n",
    "t = sp.symbols('t')\n",
    "P = sp.symbols('P')\n",
    "\n",
    "# Definindo a função P(t) - potência dissipada em função do tempo\n",
    "P_t = 5 * t**2 + 3 * t + 2\n",
    "\n",
    "# Definindo a função T(P) - temperatura em função da potência\n",
    "T_P = 2 * P**3 + 4 * P\n",
    "\n",
    "# Calculando as derivadas\n",
    "dP_dt = sp.diff(P_t, t)  # dP/dt\n",
    "dT_dP = sp.diff(T_P, P)  # dT/dP\n",
    "\n",
    "# Substituindo P(t) em dT/dP\n",
    "dT_dt = dT_dP.subs(P, P_t) * dP_dt\n",
    "\n",
    "# Exibindo as derivadas\n",
    "print(f\"dP/dt = {dP_dt}\")\n",
    "print(f\"dT/dP = {dT_dP}\")\n",
    "print(f\"dT/dt = {dT_dt}\")\n"
   ]
  },
  {
   "cell_type": "code",
   "execution_count": null,
   "id": "dbf2d31f-7579-4a9e-9167-b59f02112ca4",
   "metadata": {},
   "outputs": [],
   "source": [
    "›"
   ]
  }
 ],
 "metadata": {
  "kernelspec": {
   "display_name": "Python 3 (ipykernel)",
   "language": "python",
   "name": "python3"
  },
  "language_info": {
   "codemirror_mode": {
    "name": "ipython",
    "version": 3
   },
   "file_extension": ".py",
   "mimetype": "text/x-python",
   "name": "python",
   "nbconvert_exporter": "python",
   "pygments_lexer": "ipython3",
   "version": "3.11.7"
  }
 },
 "nbformat": 4,
 "nbformat_minor": 5
}
