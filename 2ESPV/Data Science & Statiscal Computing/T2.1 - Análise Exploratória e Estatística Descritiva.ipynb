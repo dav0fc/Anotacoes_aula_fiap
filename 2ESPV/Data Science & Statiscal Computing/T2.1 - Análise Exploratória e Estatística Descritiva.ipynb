{
 "cells": [
  {
   "cell_type": "markdown",
   "metadata": {},
   "source": [
    "IMPORTAÇÃO DOS PACOTES"
   ]
  },
  {
   "cell_type": "code",
   "execution_count": 2,
   "metadata": {},
   "outputs": [],
   "source": [
    "import pandas as pd\n",
    "import numpy as np"
   ]
  },
  {
   "cell_type": "code",
   "execution_count": 2,
   "metadata": {},
   "outputs": [],
   "source": [
    "# https://pandas.pydata.org/docs/index.html"
   ]
  },
  {
   "cell_type": "markdown",
   "metadata": {},
   "source": [
    "IMPORTAÇÃO DOS DADOS"
   ]
  },
  {
   "cell_type": "code",
   "execution_count": 2,
   "metadata": {},
   "outputs": [],
   "source": [
    "path = 'Bancos de Dados/'"
   ]
  },
  {
   "cell_type": "code",
   "execution_count": 3,
   "metadata": {},
   "outputs": [],
   "source": [
    "#https://pandas.pydata.org/docs/reference/api/pandas.read_csv.html\n",
    "#Importação do Arquivo\n",
    "credito = pd.read_csv('Dados1 Credito.csv')\n",
    "fraude = pd.read_csv('Dados2 Fraudes.csv')\n",
    "trabalho = pd.read_csv('Dados5 DataJobs.csv')\n"
   ]
  },
  {
   "cell_type": "code",
   "execution_count": 5,
   "metadata": {},
   "outputs": [],
   "source": [
    "#person_age (Idade da pessoa) – Indica a idade do solicitante do empréstimo.\n",
    "#person_income (Renda anual) – Representa a renda anual do solicitante do empréstimo.\n",
    "#person_home_ownership (Propriedade do imóvel) – Tipo de posse da residência do solicitante. Pode ser:\n",
    "# * RENT (Alugado)\n",
    "# * OWN (Próprio)\n",
    "# * MORTGAGE (Financiado)\n",
    "#person_emp_length (Tempo de emprego) – Número de anos que a pessoa está empregada.\n",
    "#loan_intent (Finalidade do empréstimo) – O propósito do empréstimo solicitado. Exemplos incluem:\n",
    "# * PERSONAL (Pessoal)\n",
    "# * EDUCATION (Educação)\n",
    "# * MEDICAL (Despesas médicas)\n",
    "# * VENTURE (Investimentos)\n",
    "# * DEBTCONSOLIDATION (Consolidação de dívidas)\n",
    "# * HOMEIMPROVEMENT (Reforma da casa)\n",
    "#loan_grade (Classificação do empréstimo) – Nota de risco do empréstimo, geralmente representada por letras (A a F), sendo A melhor e F pior.\n",
    "#loan_amnt (Valor do empréstimo) – Montante total do empréstimo solicitado.\n",
    "#loan_int_rate (Taxa de juros do empréstimo) – Taxa de juros aplicada ao empréstimo.\n",
    "#loan_status (Status do empréstimo) – Indica se o empréstimo foi quitado ou entrou em inadimplência:\n",
    "# * 0 (Não inadimplente)\n",
    "# * 1 (Inadimplente)\n",
    "#loan_percent_income (Percentual da renda comprometido) – Percentual da renda anual que o empréstimo representa.\n",
    "#cb_person_default_on_file (Histórico de inadimplência) – Indica se o solicitante já teve inadimplência registrada anteriormente:\n",
    "# * Y (Sim)\n",
    "# * N (Não)\n",
    "#cb_person_cred_hist_length (Tempo de histórico de crédito) – Número de anos de histórico de crédito do solicitante."
   ]
  },
  {
   "cell_type": "code",
   "execution_count": 6,
   "metadata": {},
   "outputs": [
    {
     "name": "stdout",
     "output_type": "stream",
     "text": [
      "<class 'pandas.core.frame.DataFrame'>\n"
     ]
    }
   ],
   "source": [
    "# DataFrames: são estruturas de dados bidimensionais, como uma planilha\n",
    "# ou uma tabela SQL, que são fundamentais no trabalho com o Pandas. Eles\n",
    "# nos permitem armazenar e manipular tabelas de dados com facilidade;\n",
    "\n",
    "# Você pode realizar uma variedade de operações em DataFrames, como\n",
    "# ordenação, subconjuntos, e criação de novas colunas. Isso oferece uma\n",
    "# grande flexibilidade para preparar e analisar seus dados;\n",
    "\n",
    "# Dominar DataFrames é essencial porque a maioria dos conjuntos de dados\n",
    "# em análises reais é estruturada desta forma. Se você pode manipular\n",
    "# DataFrames, você pode lidar com a maioria dos desafios de dados que\n",
    "# encontrará.\n",
    "\n",
    "print(type(credito))"
   ]
  },
  {
   "cell_type": "markdown",
   "metadata": {},
   "source": [
    "CARACTERÍSTICAS DOS DATAFRAMES\n",
    "\n",
    "Utilizando como exemplo os dataframes importados, vamos analisar suas principais características com as seguintes funções e atributos:\n",
    "\n",
    ".head()\n",
    ".tail()\n",
    ".info()\n",
    ".shape\n",
    ".describe()\n",
    ".values\n",
    ".columns"
   ]
  },
  {
   "cell_type": "code",
   "execution_count": 6,
   "metadata": {},
   "outputs": [
    {
     "name": "stdout",
     "output_type": "stream",
     "text": [
      "   person_age  person_income person_home_ownership  person_emp_length  \\\n",
      "0          22          59000                  RENT              123.0   \n",
      "1          21           9600                   OWN                5.0   \n",
      "2          25           9600              MORTGAGE                1.0   \n",
      "3          23          65500                  RENT                4.0   \n",
      "4          24          54400                  RENT                8.0   \n",
      "\n",
      "  loan_intent loan_grade  loan_amnt  loan_int_rate  loan_status  \\\n",
      "0    PERSONAL          D      35000          16.02            1   \n",
      "1   EDUCATION          B       1000          11.14            0   \n",
      "2     MEDICAL          C       5500          12.87            1   \n",
      "3     MEDICAL          C      35000          15.23            1   \n",
      "4     MEDICAL          C      35000          14.27            1   \n",
      "\n",
      "   loan_percent_income cb_person_default_on_file  cb_person_cred_hist_length  \n",
      "0                 0.59                         Y                           3  \n",
      "1                 0.10                         N                           2  \n",
      "2                 0.57                         N                           3  \n",
      "3                 0.53                         N                           2  \n",
      "4                 0.55                         Y                           4  \n"
     ]
    }
   ],
   "source": [
    "# .head()\n",
    "# É usada para obter as primeiras N linhas de um DataFrame. Por padrão,\n",
    "# ela retorna as primeiras 5 linhas. É uma maneira rápida de ter uma\n",
    "# noção dos dados, incluindo o tipo de informação e os valores que você\n",
    "# pode esperar\n",
    "\n",
    "print(credito.head())"
   ]
  },
  {
   "cell_type": "code",
   "execution_count": 5,
   "metadata": {},
   "outputs": [
    {
     "data": {
      "text/html": [
       "<div>\n",
       "<style scoped>\n",
       "    .dataframe tbody tr th:only-of-type {\n",
       "        vertical-align: middle;\n",
       "    }\n",
       "\n",
       "    .dataframe tbody tr th {\n",
       "        vertical-align: top;\n",
       "    }\n",
       "\n",
       "    .dataframe thead th {\n",
       "        text-align: right;\n",
       "    }\n",
       "</style>\n",
       "<table border=\"1\" class=\"dataframe\">\n",
       "  <thead>\n",
       "    <tr style=\"text-align: right;\">\n",
       "      <th></th>\n",
       "      <th>person_age</th>\n",
       "      <th>person_income</th>\n",
       "      <th>person_home_ownership</th>\n",
       "      <th>person_emp_length</th>\n",
       "      <th>loan_intent</th>\n",
       "      <th>loan_grade</th>\n",
       "      <th>loan_amnt</th>\n",
       "      <th>loan_int_rate</th>\n",
       "      <th>loan_status</th>\n",
       "      <th>loan_percent_income</th>\n",
       "      <th>cb_person_default_on_file</th>\n",
       "      <th>cb_person_cred_hist_length</th>\n",
       "    </tr>\n",
       "  </thead>\n",
       "  <tbody>\n",
       "    <tr>\n",
       "      <th>0</th>\n",
       "      <td>22</td>\n",
       "      <td>59000</td>\n",
       "      <td>RENT</td>\n",
       "      <td>123.0</td>\n",
       "      <td>PERSONAL</td>\n",
       "      <td>D</td>\n",
       "      <td>35000</td>\n",
       "      <td>16.02</td>\n",
       "      <td>1</td>\n",
       "      <td>0.59</td>\n",
       "      <td>Y</td>\n",
       "      <td>3</td>\n",
       "    </tr>\n",
       "    <tr>\n",
       "      <th>1</th>\n",
       "      <td>21</td>\n",
       "      <td>9600</td>\n",
       "      <td>OWN</td>\n",
       "      <td>5.0</td>\n",
       "      <td>EDUCATION</td>\n",
       "      <td>B</td>\n",
       "      <td>1000</td>\n",
       "      <td>11.14</td>\n",
       "      <td>0</td>\n",
       "      <td>0.10</td>\n",
       "      <td>N</td>\n",
       "      <td>2</td>\n",
       "    </tr>\n",
       "    <tr>\n",
       "      <th>2</th>\n",
       "      <td>25</td>\n",
       "      <td>9600</td>\n",
       "      <td>MORTGAGE</td>\n",
       "      <td>1.0</td>\n",
       "      <td>MEDICAL</td>\n",
       "      <td>C</td>\n",
       "      <td>5500</td>\n",
       "      <td>12.87</td>\n",
       "      <td>1</td>\n",
       "      <td>0.57</td>\n",
       "      <td>N</td>\n",
       "      <td>3</td>\n",
       "    </tr>\n",
       "    <tr>\n",
       "      <th>3</th>\n",
       "      <td>23</td>\n",
       "      <td>65500</td>\n",
       "      <td>RENT</td>\n",
       "      <td>4.0</td>\n",
       "      <td>MEDICAL</td>\n",
       "      <td>C</td>\n",
       "      <td>35000</td>\n",
       "      <td>15.23</td>\n",
       "      <td>1</td>\n",
       "      <td>0.53</td>\n",
       "      <td>N</td>\n",
       "      <td>2</td>\n",
       "    </tr>\n",
       "    <tr>\n",
       "      <th>4</th>\n",
       "      <td>24</td>\n",
       "      <td>54400</td>\n",
       "      <td>RENT</td>\n",
       "      <td>8.0</td>\n",
       "      <td>MEDICAL</td>\n",
       "      <td>C</td>\n",
       "      <td>35000</td>\n",
       "      <td>14.27</td>\n",
       "      <td>1</td>\n",
       "      <td>0.55</td>\n",
       "      <td>Y</td>\n",
       "      <td>4</td>\n",
       "    </tr>\n",
       "    <tr>\n",
       "      <th>5</th>\n",
       "      <td>21</td>\n",
       "      <td>9900</td>\n",
       "      <td>OWN</td>\n",
       "      <td>2.0</td>\n",
       "      <td>VENTURE</td>\n",
       "      <td>A</td>\n",
       "      <td>2500</td>\n",
       "      <td>7.14</td>\n",
       "      <td>1</td>\n",
       "      <td>0.25</td>\n",
       "      <td>N</td>\n",
       "      <td>2</td>\n",
       "    </tr>\n",
       "    <tr>\n",
       "      <th>6</th>\n",
       "      <td>26</td>\n",
       "      <td>77100</td>\n",
       "      <td>RENT</td>\n",
       "      <td>8.0</td>\n",
       "      <td>EDUCATION</td>\n",
       "      <td>B</td>\n",
       "      <td>35000</td>\n",
       "      <td>12.42</td>\n",
       "      <td>1</td>\n",
       "      <td>0.45</td>\n",
       "      <td>N</td>\n",
       "      <td>3</td>\n",
       "    </tr>\n",
       "    <tr>\n",
       "      <th>7</th>\n",
       "      <td>24</td>\n",
       "      <td>78956</td>\n",
       "      <td>RENT</td>\n",
       "      <td>5.0</td>\n",
       "      <td>MEDICAL</td>\n",
       "      <td>B</td>\n",
       "      <td>35000</td>\n",
       "      <td>11.11</td>\n",
       "      <td>1</td>\n",
       "      <td>0.44</td>\n",
       "      <td>N</td>\n",
       "      <td>4</td>\n",
       "    </tr>\n",
       "    <tr>\n",
       "      <th>8</th>\n",
       "      <td>24</td>\n",
       "      <td>83000</td>\n",
       "      <td>RENT</td>\n",
       "      <td>8.0</td>\n",
       "      <td>PERSONAL</td>\n",
       "      <td>A</td>\n",
       "      <td>35000</td>\n",
       "      <td>8.90</td>\n",
       "      <td>1</td>\n",
       "      <td>0.42</td>\n",
       "      <td>N</td>\n",
       "      <td>2</td>\n",
       "    </tr>\n",
       "    <tr>\n",
       "      <th>9</th>\n",
       "      <td>21</td>\n",
       "      <td>10000</td>\n",
       "      <td>OWN</td>\n",
       "      <td>6.0</td>\n",
       "      <td>VENTURE</td>\n",
       "      <td>D</td>\n",
       "      <td>1600</td>\n",
       "      <td>14.74</td>\n",
       "      <td>1</td>\n",
       "      <td>0.16</td>\n",
       "      <td>N</td>\n",
       "      <td>3</td>\n",
       "    </tr>\n",
       "  </tbody>\n",
       "</table>\n",
       "</div>"
      ],
      "text/plain": [
       "   person_age  person_income person_home_ownership  person_emp_length  \\\n",
       "0          22          59000                  RENT              123.0   \n",
       "1          21           9600                   OWN                5.0   \n",
       "2          25           9600              MORTGAGE                1.0   \n",
       "3          23          65500                  RENT                4.0   \n",
       "4          24          54400                  RENT                8.0   \n",
       "5          21           9900                   OWN                2.0   \n",
       "6          26          77100                  RENT                8.0   \n",
       "7          24          78956                  RENT                5.0   \n",
       "8          24          83000                  RENT                8.0   \n",
       "9          21          10000                   OWN                6.0   \n",
       "\n",
       "  loan_intent loan_grade  loan_amnt  loan_int_rate  loan_status  \\\n",
       "0    PERSONAL          D      35000          16.02            1   \n",
       "1   EDUCATION          B       1000          11.14            0   \n",
       "2     MEDICAL          C       5500          12.87            1   \n",
       "3     MEDICAL          C      35000          15.23            1   \n",
       "4     MEDICAL          C      35000          14.27            1   \n",
       "5     VENTURE          A       2500           7.14            1   \n",
       "6   EDUCATION          B      35000          12.42            1   \n",
       "7     MEDICAL          B      35000          11.11            1   \n",
       "8    PERSONAL          A      35000           8.90            1   \n",
       "9     VENTURE          D       1600          14.74            1   \n",
       "\n",
       "   loan_percent_income cb_person_default_on_file  cb_person_cred_hist_length  \n",
       "0                 0.59                         Y                           3  \n",
       "1                 0.10                         N                           2  \n",
       "2                 0.57                         N                           3  \n",
       "3                 0.53                         N                           2  \n",
       "4                 0.55                         Y                           4  \n",
       "5                 0.25                         N                           2  \n",
       "6                 0.45                         N                           3  \n",
       "7                 0.44                         N                           4  \n",
       "8                 0.42                         N                           2  \n",
       "9                 0.16                         N                           3  "
      ]
     },
     "execution_count": 5,
     "metadata": {},
     "output_type": "execute_result"
    }
   ],
   "source": [
    "credito.head(10)"
   ]
  },
  {
   "cell_type": "code",
   "execution_count": 7,
   "metadata": {},
   "outputs": [
    {
     "name": "stdout",
     "output_type": "stream",
     "text": [
      "       person_age  person_income person_home_ownership  person_emp_length  \\\n",
      "32576          57          53000              MORTGAGE                1.0   \n",
      "32577          54         120000              MORTGAGE                4.0   \n",
      "32578          65          76000                  RENT                3.0   \n",
      "32579          56         150000              MORTGAGE                5.0   \n",
      "32580          66          42000                  RENT                2.0   \n",
      "\n",
      "           loan_intent loan_grade  loan_amnt  loan_int_rate  loan_status  \\\n",
      "32576         PERSONAL          C       5800          13.16            0   \n",
      "32577         PERSONAL          A      17625           7.49            0   \n",
      "32578  HOMEIMPROVEMENT          B      35000          10.99            1   \n",
      "32579         PERSONAL          B      15000          11.48            0   \n",
      "32580          MEDICAL          B       6475           9.99            0   \n",
      "\n",
      "       loan_percent_income cb_person_default_on_file  \\\n",
      "32576                 0.11                         N   \n",
      "32577                 0.15                         N   \n",
      "32578                 0.46                         N   \n",
      "32579                 0.10                         N   \n",
      "32580                 0.15                         N   \n",
      "\n",
      "       cb_person_cred_hist_length  \n",
      "32576                          30  \n",
      "32577                          19  \n",
      "32578                          28  \n",
      "32579                          26  \n",
      "32580                          30  \n"
     ]
    }
   ],
   "source": [
    "# tail()\n",
    "# Similar à função .head(), mas para as últimas N linhas. Esta função é útil\n",
    "# para verificar rapidamente os últimos dados inseridos ou para confirmar\n",
    "# se os dados estão completos e não foram truncado\n",
    "\n",
    "print(credito.tail())"
   ]
  },
  {
   "cell_type": "code",
   "execution_count": 8,
   "metadata": {},
   "outputs": [
    {
     "name": "stdout",
     "output_type": "stream",
     "text": [
      "       person_age  person_income person_home_ownership  person_emp_length  \\\n",
      "32574          52          65004                  RENT                4.0   \n",
      "32575          52          64500                  RENT                0.0   \n",
      "32576          57          53000              MORTGAGE                1.0   \n",
      "32577          54         120000              MORTGAGE                4.0   \n",
      "32578          65          76000                  RENT                3.0   \n",
      "32579          56         150000              MORTGAGE                5.0   \n",
      "32580          66          42000                  RENT                2.0   \n",
      "\n",
      "           loan_intent loan_grade  loan_amnt  loan_int_rate  loan_status  \\\n",
      "32574         PERSONAL          D      20000          15.58            1   \n",
      "32575        EDUCATION          B       5000          11.26            0   \n",
      "32576         PERSONAL          C       5800          13.16            0   \n",
      "32577         PERSONAL          A      17625           7.49            0   \n",
      "32578  HOMEIMPROVEMENT          B      35000          10.99            1   \n",
      "32579         PERSONAL          B      15000          11.48            0   \n",
      "32580          MEDICAL          B       6475           9.99            0   \n",
      "\n",
      "       loan_percent_income cb_person_default_on_file  \\\n",
      "32574                 0.31                         Y   \n",
      "32575                 0.08                         N   \n",
      "32576                 0.11                         N   \n",
      "32577                 0.15                         N   \n",
      "32578                 0.46                         N   \n",
      "32579                 0.10                         N   \n",
      "32580                 0.15                         N   \n",
      "\n",
      "       cb_person_cred_hist_length  \n",
      "32574                          19  \n",
      "32575                          20  \n",
      "32576                          30  \n",
      "32577                          19  \n",
      "32578                          28  \n",
      "32579                          26  \n",
      "32580                          30  \n"
     ]
    }
   ],
   "source": [
    "print(credito.tail(7))"
   ]
  },
  {
   "cell_type": "code",
   "execution_count": 11,
   "metadata": {},
   "outputs": [
    {
     "name": "stdout",
     "output_type": "stream",
     "text": [
      "<class 'pandas.core.frame.DataFrame'>\n",
      "RangeIndex: 32581 entries, 0 to 32580\n",
      "Data columns (total 12 columns):\n",
      " #   Column                      Non-Null Count  Dtype  \n",
      "---  ------                      --------------  -----  \n",
      " 0   person_age                  32581 non-null  int64  \n",
      " 1   person_income               32581 non-null  int64  \n",
      " 2   person_home_ownership       32581 non-null  object \n",
      " 3   person_emp_length           31686 non-null  float64\n",
      " 4   loan_intent                 32581 non-null  object \n",
      " 5   loan_grade                  32581 non-null  object \n",
      " 6   loan_amnt                   32581 non-null  int64  \n",
      " 7   loan_int_rate               29465 non-null  float64\n",
      " 8   loan_status                 32581 non-null  int64  \n",
      " 9   loan_percent_income         32581 non-null  float64\n",
      " 10  cb_person_default_on_file   32581 non-null  object \n",
      " 11  cb_person_cred_hist_length  32581 non-null  int64  \n",
      "dtypes: float64(3), int64(5), object(4)\n",
      "memory usage: 3.0+ MB\n",
      "None\n"
     ]
    }
   ],
   "source": [
    "# .info()\n",
    "# Fornece um resumo conciso do DataFrame. Isso inclui o número de\n",
    "# entradas, a quantidade de colunas, os tipos de dados de cada coluna, a\n",
    "# quantidade de valores não nulos e o uso de memória.\n",
    "\n",
    "print(credito.info())"
   ]
  },
  {
   "cell_type": "code",
   "execution_count": 12,
   "metadata": {},
   "outputs": [
    {
     "name": "stdout",
     "output_type": "stream",
     "text": [
      "(32581, 12)\n"
     ]
    }
   ],
   "source": [
    "# .shape\n",
    "# Esta não é uma função, mas um atributo que retorna uma tupla\n",
    "# representando a dimensionalidade do DataFrame, ou seja, o número de\n",
    "# linhas e colunas. Isso é essencial para confirmar se a manipulação de\n",
    "# dados, como merges ou joins, resultou no número esperado de linhas e\n",
    "# colunas\n",
    "\n",
    "print(credito.shape)"
   ]
  },
  {
   "cell_type": "code",
   "execution_count": 13,
   "metadata": {},
   "outputs": [
    {
     "name": "stdout",
     "output_type": "stream",
     "text": [
      "         person_age  person_income  person_emp_length     loan_amnt  \\\n",
      "count  32581.000000   3.258100e+04       31686.000000  32581.000000   \n",
      "mean      27.734600   6.607485e+04           4.789686   9589.371106   \n",
      "std        6.348078   6.198312e+04           4.142630   6322.086646   \n",
      "min       20.000000   4.000000e+03           0.000000    500.000000   \n",
      "25%       23.000000   3.850000e+04           2.000000   5000.000000   \n",
      "50%       26.000000   5.500000e+04           4.000000   8000.000000   \n",
      "75%       30.000000   7.920000e+04           7.000000  12200.000000   \n",
      "max      144.000000   6.000000e+06         123.000000  35000.000000   \n",
      "\n",
      "       loan_int_rate   loan_status  loan_percent_income  \\\n",
      "count   29465.000000  32581.000000         32581.000000   \n",
      "mean       11.011695      0.218164             0.170203   \n",
      "std         3.240459      0.413006             0.106782   \n",
      "min         5.420000      0.000000             0.000000   \n",
      "25%         7.900000      0.000000             0.090000   \n",
      "50%        10.990000      0.000000             0.150000   \n",
      "75%        13.470000      0.000000             0.230000   \n",
      "max        23.220000      1.000000             0.830000   \n",
      "\n",
      "       cb_person_cred_hist_length  \n",
      "count                32581.000000  \n",
      "mean                     5.804211  \n",
      "std                      4.055001  \n",
      "min                      2.000000  \n",
      "25%                      3.000000  \n",
      "50%                      4.000000  \n",
      "75%                      8.000000  \n",
      "max                     30.000000  \n"
     ]
    }
   ],
   "source": [
    "# .describe()\n",
    "# Gera estatísticas descritivas que resumem a tendência central, dispersão\n",
    "# e forma da distribuição de um dataset, excluindo valores NaN. Por\n",
    "# padrão, fornece informações como contagem, média, desvio padrão,\n",
    "# mínimo, quartis e máximo para colunas numéricas. É extremamente útil\n",
    "# para uma análise exploratória inicial para entender melhor a\n",
    "# distribuição dos dados numéricos.\n",
    "\n",
    "print(credito.describe())"
   ]
  },
  {
   "cell_type": "code",
   "execution_count": 14,
   "metadata": {},
   "outputs": [
    {
     "name": "stdout",
     "output_type": "stream",
     "text": [
      "                              count          mean           std      min  \\\n",
      "person_age                  32581.0     27.734600      6.348078    20.00   \n",
      "person_income               32581.0  66074.848470  61983.119168  4000.00   \n",
      "person_emp_length           31686.0      4.789686      4.142630     0.00   \n",
      "loan_amnt                   32581.0   9589.371106   6322.086646   500.00   \n",
      "loan_int_rate               29465.0     11.011695      3.240459     5.42   \n",
      "loan_status                 32581.0      0.218164      0.413006     0.00   \n",
      "loan_percent_income         32581.0      0.170203      0.106782     0.00   \n",
      "cb_person_cred_hist_length  32581.0      5.804211      4.055001     2.00   \n",
      "\n",
      "                                 25%       50%       75%         max  \n",
      "person_age                     23.00     26.00     30.00      144.00  \n",
      "person_income               38500.00  55000.00  79200.00  6000000.00  \n",
      "person_emp_length               2.00      4.00      7.00      123.00  \n",
      "loan_amnt                    5000.00   8000.00  12200.00    35000.00  \n",
      "loan_int_rate                   7.90     10.99     13.47       23.22  \n",
      "loan_status                     0.00      0.00      0.00        1.00  \n",
      "loan_percent_income             0.09      0.15      0.23        0.83  \n",
      "cb_person_cred_hist_length      3.00      4.00      8.00       30.00  \n"
     ]
    }
   ],
   "source": [
    "# Pode ser transporta com um .T.\n",
    "\n",
    "print(credito.describe().T)"
   ]
  },
  {
   "cell_type": "markdown",
   "metadata": {},
   "source": [
    "ATRIBUTOS DOS DATAFRAMES\n",
    "\n",
    "Análise dos principais atributos dos dataframes com as seguintes funções:\n",
    "\n",
    ".values\n",
    ".columns\n",
    ".index"
   ]
  },
  {
   "cell_type": "code",
   "execution_count": 15,
   "metadata": {},
   "outputs": [
    {
     "name": "stdout",
     "output_type": "stream",
     "text": [
      "[[22 59000 'RENT' ... 0.59 'Y' 3]\n",
      " [21 9600 'OWN' ... 0.1 'N' 2]\n",
      " [25 9600 'MORTGAGE' ... 0.57 'N' 3]\n",
      " ...\n",
      " [65 76000 'RENT' ... 0.46 'N' 28]\n",
      " [56 150000 'MORTGAGE' ... 0.1 'N' 26]\n",
      " [66 42000 'RENT' ... 0.15 'N' 30]]\n"
     ]
    }
   ],
   "source": [
    "# .values\n",
    "# Este atributo contém os dados dentro do DataFrame como um array\n",
    "# NumPy. É útil quando você precisa dos dados brutos para operações ou\n",
    "# algoritmos que operam diretamente em arrays NumPy. Por exemplo, ao\n",
    "# passar os dados para um modelo de machine learning, muitas vezes\n",
    "# você utilizará o atributo\n",
    "\n",
    "print(credito.values)"
   ]
  },
  {
   "cell_type": "code",
   "execution_count": 9,
   "metadata": {},
   "outputs": [
    {
     "name": "stdout",
     "output_type": "stream",
     "text": [
      "Index(['person_age', 'person_income', 'person_home_ownership',\n",
      "       'person_emp_length', 'loan_intent', 'loan_grade', 'loan_amnt',\n",
      "       'loan_int_rate', 'loan_status', 'loan_percent_income',\n",
      "       'cb_person_default_on_file', 'cb_person_cred_hist_length'],\n",
      "      dtype='object')\n"
     ]
    }
   ],
   "source": [
    "# .columns\n",
    "# Este atributo contém os rótulos das colunas do DataFrame. É essencial\n",
    "# para entender as variáveis que você tem em seu conjunto de dados e\n",
    "# para manipular colunas específicas. Por exemplo, você pode querer\n",
    "# renomear colunas ou selecionar um subconjunto delas para análise.\n",
    "\n",
    "print(credito.columns)"
   ]
  },
  {
   "cell_type": "code",
   "execution_count": 17,
   "metadata": {},
   "outputs": [
    {
     "name": "stdout",
     "output_type": "stream",
     "text": [
      "RangeIndex(start=0, stop=32581, step=1)\n"
     ]
    }
   ],
   "source": [
    "# .index\n",
    "# Este atributo contém os rótulos das linhas. O índice pode ser uma\n",
    "# simples sequência de números, mas também pode conter datas, strings,\n",
    "# ou múltiplos níveis (em DataFrames hierárquicos). O índice é crítico para\n",
    "# alinhar dados durante operações como junções, e também é útil para\n",
    "# subconjunto de linhas baseadas em rótulos.\n",
    "\n",
    "print(credito.index)"
   ]
  },
  {
   "cell_type": "markdown",
   "metadata": {},
   "source": [
    "ORDENAÇÃO\n",
    "\n",
    "Utilização da função sort_values e manipulação da ordenação através de vários outros argumentos"
   ]
  },
  {
   "cell_type": "code",
   "execution_count": 18,
   "metadata": {},
   "outputs": [
    {
     "name": "stdout",
     "output_type": "stream",
     "text": [
      "       person_age  person_income person_home_ownership  person_emp_length  \\\n",
      "1313           20          64000                  RENT                3.0   \n",
      "12943          20          85920              MORTGAGE                3.0   \n",
      "14827          20         115731              MORTGAGE                4.0   \n",
      "15830          20         188004              MORTGAGE                4.0   \n",
      "11902          20          77052              MORTGAGE                4.0   \n",
      "...           ...            ...                   ...                ...   \n",
      "575           123          80004                  RENT                2.0   \n",
      "747           123          78000                  RENT                7.0   \n",
      "81            144         250000                  RENT                4.0   \n",
      "183           144         200000              MORTGAGE                4.0   \n",
      "32297         144        6000000              MORTGAGE               12.0   \n",
      "\n",
      "             loan_intent loan_grade  loan_amnt  loan_int_rate  loan_status  \\\n",
      "1313             VENTURE          D      16000          15.31            1   \n",
      "12943  DEBTCONSOLIDATION          A      12000           8.49            0   \n",
      "14827  DEBTCONSOLIDATION          B       9625          10.74            0   \n",
      "15830          EDUCATION          A       2000           8.59            0   \n",
      "11902          EDUCATION          B      24250          11.36            0   \n",
      "...                  ...        ...        ...            ...          ...   \n",
      "575            EDUCATION          B      20400          10.25            0   \n",
      "747              VENTURE          B      20000            NaN            0   \n",
      "81               VENTURE          C       4800          13.57            0   \n",
      "183            EDUCATION          B       6000          11.86            0   \n",
      "32297           PERSONAL          C       5000          12.73            0   \n",
      "\n",
      "       loan_percent_income cb_person_default_on_file  \\\n",
      "1313                  0.25                         Y   \n",
      "12943                 0.14                         N   \n",
      "14827                 0.08                         N   \n",
      "15830                 0.01                         N   \n",
      "11902                 0.31                         N   \n",
      "...                    ...                       ...   \n",
      "575                   0.25                         N   \n",
      "747                   0.26                         N   \n",
      "81                    0.02                         N   \n",
      "183                   0.03                         N   \n",
      "32297                 0.00                         N   \n",
      "\n",
      "       cb_person_cred_hist_length  \n",
      "1313                            4  \n",
      "12943                           2  \n",
      "14827                           3  \n",
      "15830                           4  \n",
      "11902                           2  \n",
      "...                           ...  \n",
      "575                             3  \n",
      "747                             4  \n",
      "81                              3  \n",
      "183                             2  \n",
      "32297                          25  \n",
      "\n",
      "[32581 rows x 12 columns]\n"
     ]
    }
   ],
   "source": [
    "# .sort_values('col')\n",
    "# Permite ordenar um DataFrame com base nos valores de uma ou mais\n",
    "# colunas. A função ordenará o DataFrame com base nos valores da\n",
    "# 'coluna' em ordem ascendente, que é o padrão;\n",
    "\n",
    "print(credito.sort_values('person_age'))"
   ]
  },
  {
   "cell_type": "code",
   "execution_count": 19,
   "metadata": {},
   "outputs": [
    {
     "name": "stdout",
     "output_type": "stream",
     "text": [
      "1313      20\n",
      "12943     20\n",
      "14827     20\n",
      "15830     20\n",
      "11902     20\n",
      "        ... \n",
      "575      123\n",
      "747      123\n",
      "81       144\n",
      "183      144\n",
      "32297    144\n",
      "Name: person_age, Length: 32581, dtype: int64\n"
     ]
    }
   ],
   "source": [
    "print(credito['person_age'].sort_values())"
   ]
  },
  {
   "cell_type": "code",
   "execution_count": 20,
   "metadata": {},
   "outputs": [
    {
     "name": "stdout",
     "output_type": "stream",
     "text": [
      "       person_age  person_income person_home_ownership  person_emp_length  \\\n",
      "3851           20          32652              MORTGAGE                0.0   \n",
      "9926           20          65000              MORTGAGE                4.0   \n",
      "11889          20          77000              MORTGAGE                4.0   \n",
      "11902          20          77052              MORTGAGE                4.0   \n",
      "12943          20          85920              MORTGAGE                3.0   \n",
      "...           ...            ...                   ...                ...   \n",
      "575           123          80004                  RENT                2.0   \n",
      "747           123          78000                  RENT                7.0   \n",
      "183           144         200000              MORTGAGE                4.0   \n",
      "32297         144        6000000              MORTGAGE               12.0   \n",
      "81            144         250000                  RENT                4.0   \n",
      "\n",
      "             loan_intent loan_grade  loan_amnt  loan_int_rate  loan_status  \\\n",
      "3851            PERSONAL          D       6000          14.61            1   \n",
      "9926           EDUCATION          B       4800           9.99            0   \n",
      "11889            VENTURE          A       6000           8.00            0   \n",
      "11902          EDUCATION          B      24250          11.36            0   \n",
      "12943  DEBTCONSOLIDATION          A      12000           8.49            0   \n",
      "...                  ...        ...        ...            ...          ...   \n",
      "575            EDUCATION          B      20400          10.25            0   \n",
      "747              VENTURE          B      20000            NaN            0   \n",
      "183            EDUCATION          B       6000          11.86            0   \n",
      "32297           PERSONAL          C       5000          12.73            0   \n",
      "81               VENTURE          C       4800          13.57            0   \n",
      "\n",
      "       loan_percent_income cb_person_default_on_file  \\\n",
      "3851                  0.18                         N   \n",
      "9926                  0.07                         N   \n",
      "11889                 0.08                         N   \n",
      "11902                 0.31                         N   \n",
      "12943                 0.14                         N   \n",
      "...                    ...                       ...   \n",
      "575                   0.25                         N   \n",
      "747                   0.26                         N   \n",
      "183                   0.03                         N   \n",
      "32297                 0.00                         N   \n",
      "81                    0.02                         N   \n",
      "\n",
      "       cb_person_cred_hist_length  \n",
      "3851                            4  \n",
      "9926                            2  \n",
      "11889                           2  \n",
      "11902                           2  \n",
      "12943                           2  \n",
      "...                           ...  \n",
      "575                             3  \n",
      "747                             4  \n",
      "183                             2  \n",
      "32297                          25  \n",
      "81                              3  \n",
      "\n",
      "[32581 rows x 12 columns]\n"
     ]
    }
   ],
   "source": [
    "# É possível ordenar por mais de uma coluna. Isso é feito passando uma\n",
    "# lista de nomes de colunas para .sort_values(). Por exemplo,\n",
    "# df.sort_values(['coluna1', 'coluna2']) ordenará primeiro pela 'coluna1' e\n",
    "# depois pela 'coluna2'.\n",
    "\n",
    "print(credito.sort_values(['person_age', 'person_home_ownership']))"
   ]
  },
  {
   "cell_type": "code",
   "execution_count": 21,
   "metadata": {},
   "outputs": [
    {
     "name": "stdout",
     "output_type": "stream",
     "text": [
      "       person_age  person_income person_home_ownership  person_emp_length  \\\n",
      "81            144         250000                  RENT                4.0   \n",
      "32297         144        6000000              MORTGAGE               12.0   \n",
      "183           144         200000              MORTGAGE                4.0   \n",
      "747           123          78000                  RENT                7.0   \n",
      "575           123          80004                  RENT                2.0   \n",
      "...           ...            ...                   ...                ...   \n",
      "7327           20          42000                  RENT                4.0   \n",
      "16339          20         188004              MORTGAGE                4.0   \n",
      "9926           20          65000              MORTGAGE                4.0   \n",
      "12943          20          85920              MORTGAGE                3.0   \n",
      "1313           20          64000                  RENT                3.0   \n",
      "\n",
      "             loan_intent loan_grade  loan_amnt  loan_int_rate  loan_status  \\\n",
      "81               VENTURE          C       4800          13.57            0   \n",
      "32297           PERSONAL          C       5000          12.73            0   \n",
      "183            EDUCATION          B       6000          11.86            0   \n",
      "747              VENTURE          B      20000            NaN            0   \n",
      "575            EDUCATION          B      20400          10.25            0   \n",
      "...                  ...        ...        ...            ...          ...   \n",
      "7327             VENTURE          B       6500          11.71            0   \n",
      "16339           PERSONAL          A       2000           8.59            0   \n",
      "9926           EDUCATION          B       4800           9.99            0   \n",
      "12943  DEBTCONSOLIDATION          A      12000           8.49            0   \n",
      "1313             VENTURE          D      16000          15.31            1   \n",
      "\n",
      "       loan_percent_income cb_person_default_on_file  \\\n",
      "81                    0.02                         N   \n",
      "32297                 0.00                         N   \n",
      "183                   0.03                         N   \n",
      "747                   0.26                         N   \n",
      "575                   0.25                         N   \n",
      "...                    ...                       ...   \n",
      "7327                  0.15                         N   \n",
      "16339                 0.01                         N   \n",
      "9926                  0.07                         N   \n",
      "12943                 0.14                         N   \n",
      "1313                  0.25                         Y   \n",
      "\n",
      "       cb_person_cred_hist_length  \n",
      "81                              3  \n",
      "32297                          25  \n",
      "183                             2  \n",
      "747                             4  \n",
      "575                             3  \n",
      "...                           ...  \n",
      "7327                            2  \n",
      "16339                           2  \n",
      "9926                            2  \n",
      "12943                           2  \n",
      "1313                            4  \n",
      "\n",
      "[32581 rows x 12 columns]\n"
     ]
    }
   ],
   "source": [
    "# • .sort_values('col', ascending=False)\n",
    "# Você pode ordenar os dados em ordem decrescente passando o\n",
    "# argumento ascending=False;\n",
    "\n",
    "print(credito.sort_values('person_age', ascending=False))"
   ]
  },
  {
   "cell_type": "code",
   "execution_count": 22,
   "metadata": {},
   "outputs": [
    {
     "name": "stdout",
     "output_type": "stream",
     "text": [
      "       person_age  person_income person_home_ownership  person_emp_length  \\\n",
      "183           144         200000              MORTGAGE                4.0   \n",
      "32297         144        6000000              MORTGAGE               12.0   \n",
      "81            144         250000                  RENT                4.0   \n",
      "575           123          80004                  RENT                2.0   \n",
      "747           123          78000                  RENT                7.0   \n",
      "...           ...            ...                   ...                ...   \n",
      "17196          20          65000              MORTGAGE                4.0   \n",
      "1313           20          64000                  RENT                3.0   \n",
      "5648           20          94000                  RENT                4.0   \n",
      "7327           20          42000                  RENT                4.0   \n",
      "7748           20          34800                  RENT                3.0   \n",
      "\n",
      "      loan_intent loan_grade  loan_amnt  loan_int_rate  loan_status  \\\n",
      "183     EDUCATION          B       6000          11.86            0   \n",
      "32297    PERSONAL          C       5000          12.73            0   \n",
      "81        VENTURE          C       4800          13.57            0   \n",
      "575     EDUCATION          B      20400          10.25            0   \n",
      "747       VENTURE          B      20000            NaN            0   \n",
      "...           ...        ...        ...            ...          ...   \n",
      "17196     VENTURE          B       4800           9.99            0   \n",
      "1313      VENTURE          D      16000          15.31            1   \n",
      "5648    EDUCATION          D       5000          16.02            0   \n",
      "7327      VENTURE          B       6500          11.71            0   \n",
      "7748      MEDICAL          C       7000          13.61            0   \n",
      "\n",
      "       loan_percent_income cb_person_default_on_file  \\\n",
      "183                   0.03                         N   \n",
      "32297                 0.00                         N   \n",
      "81                    0.02                         N   \n",
      "575                   0.25                         N   \n",
      "747                   0.26                         N   \n",
      "...                    ...                       ...   \n",
      "17196                 0.07                         N   \n",
      "1313                  0.25                         Y   \n",
      "5648                  0.05                         N   \n",
      "7327                  0.15                         N   \n",
      "7748                  0.20                         Y   \n",
      "\n",
      "       cb_person_cred_hist_length  \n",
      "183                             2  \n",
      "32297                          25  \n",
      "81                              3  \n",
      "575                             3  \n",
      "747                             4  \n",
      "...                           ...  \n",
      "17196                           4  \n",
      "1313                            4  \n",
      "5648                            3  \n",
      "7327                            2  \n",
      "7748                            2  \n",
      "\n",
      "[32581 rows x 12 columns]\n"
     ]
    }
   ],
   "source": [
    "# Ao ordenar por múltiplas colunas, você pode especificar uma ordem de\n",
    "# classificação diferente para cada coluna usando uma lista de booleanos\n",
    "# no argumento ascending. Por exemplo, df.sort_values(['coluna1',\n",
    "# 'coluna2'], ascending=[True, False]) ordenará 'coluna1' em ordem\n",
    "# ascendente e 'coluna2' em ordem decrescente.\n",
    "\n",
    "print(credito.sort_values(['person_age', 'person_home_ownership'], ascending=[False,True]))"
   ]
  },
  {
   "cell_type": "code",
   "execution_count": 23,
   "metadata": {},
   "outputs": [
    {
     "name": "stdout",
     "output_type": "stream",
     "text": [
      "       person_age  person_income person_home_ownership  person_emp_length  \\\n",
      "81            144         250000                  RENT                4.0   \n",
      "183           144         200000              MORTGAGE                4.0   \n",
      "32297         144        6000000              MORTGAGE               12.0   \n",
      "575           123          80004                  RENT                2.0   \n",
      "747           123          78000                  RENT                7.0   \n",
      "...           ...            ...                   ...                ...   \n",
      "14827          20         115731              MORTGAGE                4.0   \n",
      "15417          20         135000              MORTGAGE                1.0   \n",
      "15830          20         188004              MORTGAGE                4.0   \n",
      "16339          20         188004              MORTGAGE                4.0   \n",
      "17196          20          65000              MORTGAGE                4.0   \n",
      "\n",
      "             loan_intent loan_grade  loan_amnt  loan_int_rate  loan_status  \\\n",
      "81               VENTURE          C       4800          13.57            0   \n",
      "183            EDUCATION          B       6000          11.86            0   \n",
      "32297           PERSONAL          C       5000          12.73            0   \n",
      "575            EDUCATION          B      20400          10.25            0   \n",
      "747              VENTURE          B      20000            NaN            0   \n",
      "...                  ...        ...        ...            ...          ...   \n",
      "14827  DEBTCONSOLIDATION          B       9625          10.74            0   \n",
      "15417            VENTURE          C      15000          15.96            0   \n",
      "15830          EDUCATION          A       2000           8.59            0   \n",
      "16339           PERSONAL          A       2000           8.59            0   \n",
      "17196            VENTURE          B       4800           9.99            0   \n",
      "\n",
      "       loan_percent_income cb_person_default_on_file  \\\n",
      "81                    0.02                         N   \n",
      "183                   0.03                         N   \n",
      "32297                 0.00                         N   \n",
      "575                   0.25                         N   \n",
      "747                   0.26                         N   \n",
      "...                    ...                       ...   \n",
      "14827                 0.08                         N   \n",
      "15417                 0.11                         Y   \n",
      "15830                 0.01                         N   \n",
      "16339                 0.01                         N   \n",
      "17196                 0.07                         N   \n",
      "\n",
      "       cb_person_cred_hist_length  \n",
      "81                              3  \n",
      "183                             2  \n",
      "32297                          25  \n",
      "575                             3  \n",
      "747                             4  \n",
      "...                           ...  \n",
      "14827                           3  \n",
      "15417                           2  \n",
      "15830                           4  \n",
      "16339                           2  \n",
      "17196                           4  \n",
      "\n",
      "[32581 rows x 12 columns]\n"
     ]
    }
   ],
   "source": [
    "print(credito.sort_values(['person_age', 'person_home_ownership'], ascending=[False,False]))"
   ]
  },
  {
   "cell_type": "code",
   "execution_count": 24,
   "metadata": {},
   "outputs": [],
   "source": [
    "# Posso manter o dataframe original ordenado ao criar\n",
    "# um novo dataframe com o mesmo nome ordenando as variáveis\n",
    "\n",
    "credito = credito.sort_values('person_age').copy()\n",
    "\n",
    "# A função .copy() é importante ao criar novos DataFrames no\n",
    "# pandas para evitar modificações não intencionais nos dados\n",
    "# originais. Isso ocorre porque, por padrão, quando você atribui\n",
    "# um DataFrame a uma nova variável, o pandas não cria uma cópia\n",
    "# real dos dados, mas sim uma referência ao mesmo objeto na memória."
   ]
  },
  {
   "cell_type": "code",
   "execution_count": 25,
   "metadata": {},
   "outputs": [
    {
     "name": "stdout",
     "output_type": "stream",
     "text": [
      "       person_age  person_income person_home_ownership  person_emp_length  \\\n",
      "1313           20          64000                  RENT                3.0   \n",
      "12943          20          85920              MORTGAGE                3.0   \n",
      "14827          20         115731              MORTGAGE                4.0   \n",
      "15830          20         188004              MORTGAGE                4.0   \n",
      "11902          20          77052              MORTGAGE                4.0   \n",
      "...           ...            ...                   ...                ...   \n",
      "575           123          80004                  RENT                2.0   \n",
      "747           123          78000                  RENT                7.0   \n",
      "81            144         250000                  RENT                4.0   \n",
      "183           144         200000              MORTGAGE                4.0   \n",
      "32297         144        6000000              MORTGAGE               12.0   \n",
      "\n",
      "             loan_intent loan_grade  loan_amnt  loan_int_rate  loan_status  \\\n",
      "1313             VENTURE          D      16000          15.31            1   \n",
      "12943  DEBTCONSOLIDATION          A      12000           8.49            0   \n",
      "14827  DEBTCONSOLIDATION          B       9625          10.74            0   \n",
      "15830          EDUCATION          A       2000           8.59            0   \n",
      "11902          EDUCATION          B      24250          11.36            0   \n",
      "...                  ...        ...        ...            ...          ...   \n",
      "575            EDUCATION          B      20400          10.25            0   \n",
      "747              VENTURE          B      20000            NaN            0   \n",
      "81               VENTURE          C       4800          13.57            0   \n",
      "183            EDUCATION          B       6000          11.86            0   \n",
      "32297           PERSONAL          C       5000          12.73            0   \n",
      "\n",
      "       loan_percent_income cb_person_default_on_file  \\\n",
      "1313                  0.25                         Y   \n",
      "12943                 0.14                         N   \n",
      "14827                 0.08                         N   \n",
      "15830                 0.01                         N   \n",
      "11902                 0.31                         N   \n",
      "...                    ...                       ...   \n",
      "575                   0.25                         N   \n",
      "747                   0.26                         N   \n",
      "81                    0.02                         N   \n",
      "183                   0.03                         N   \n",
      "32297                 0.00                         N   \n",
      "\n",
      "       cb_person_cred_hist_length  \n",
      "1313                            4  \n",
      "12943                           2  \n",
      "14827                           3  \n",
      "15830                           4  \n",
      "11902                           2  \n",
      "...                           ...  \n",
      "575                             3  \n",
      "747                             4  \n",
      "81                              3  \n",
      "183                             2  \n",
      "32297                          25  \n",
      "\n",
      "[32581 rows x 12 columns]\n"
     ]
    }
   ],
   "source": [
    "# Ao reordenar meu dataframe, o índice muda de acordo com a ordenação\n",
    "\n",
    "print(credito)"
   ]
  },
  {
   "cell_type": "code",
   "execution_count": 26,
   "metadata": {},
   "outputs": [
    {
     "name": "stdout",
     "output_type": "stream",
     "text": [
      "       person_age  person_income person_home_ownership  person_emp_length  \\\n",
      "0              22          59000                  RENT              123.0   \n",
      "1              21           9600                   OWN                5.0   \n",
      "2              25           9600              MORTGAGE                1.0   \n",
      "3              23          65500                  RENT                4.0   \n",
      "4              24          54400                  RENT                8.0   \n",
      "...           ...            ...                   ...                ...   \n",
      "32576          57          53000              MORTGAGE                1.0   \n",
      "32577          54         120000              MORTGAGE                4.0   \n",
      "32578          65          76000                  RENT                3.0   \n",
      "32579          56         150000              MORTGAGE                5.0   \n",
      "32580          66          42000                  RENT                2.0   \n",
      "\n",
      "           loan_intent loan_grade  loan_amnt  loan_int_rate  loan_status  \\\n",
      "0             PERSONAL          D      35000          16.02            1   \n",
      "1            EDUCATION          B       1000          11.14            0   \n",
      "2              MEDICAL          C       5500          12.87            1   \n",
      "3              MEDICAL          C      35000          15.23            1   \n",
      "4              MEDICAL          C      35000          14.27            1   \n",
      "...                ...        ...        ...            ...          ...   \n",
      "32576         PERSONAL          C       5800          13.16            0   \n",
      "32577         PERSONAL          A      17625           7.49            0   \n",
      "32578  HOMEIMPROVEMENT          B      35000          10.99            1   \n",
      "32579         PERSONAL          B      15000          11.48            0   \n",
      "32580          MEDICAL          B       6475           9.99            0   \n",
      "\n",
      "       loan_percent_income cb_person_default_on_file  \\\n",
      "0                     0.59                         Y   \n",
      "1                     0.10                         N   \n",
      "2                     0.57                         N   \n",
      "3                     0.53                         N   \n",
      "4                     0.55                         Y   \n",
      "...                    ...                       ...   \n",
      "32576                 0.11                         N   \n",
      "32577                 0.15                         N   \n",
      "32578                 0.46                         N   \n",
      "32579                 0.10                         N   \n",
      "32580                 0.15                         N   \n",
      "\n",
      "       cb_person_cred_hist_length  \n",
      "0                               3  \n",
      "1                               2  \n",
      "2                               3  \n",
      "3                               2  \n",
      "4                               4  \n",
      "...                           ...  \n",
      "32576                          30  \n",
      "32577                          19  \n",
      "32578                          28  \n",
      "32579                          26  \n",
      "32580                          30  \n",
      "\n",
      "[32581 rows x 12 columns]\n"
     ]
    }
   ],
   "source": [
    "# Para reordenar um DataFrame pelo índice no pandas, utilize o método .sort_index().\n",
    "\n",
    "print(credito.sort_index())"
   ]
  },
  {
   "cell_type": "code",
   "execution_count": 27,
   "metadata": {},
   "outputs": [
    {
     "name": "stdout",
     "output_type": "stream",
     "text": [
      "       person_age  person_income person_home_ownership  person_emp_length  \\\n",
      "0              20          64000                  RENT                3.0   \n",
      "1              20          85920              MORTGAGE                3.0   \n",
      "2              20         115731              MORTGAGE                4.0   \n",
      "3              20         188004              MORTGAGE                4.0   \n",
      "4              20          77052              MORTGAGE                4.0   \n",
      "...           ...            ...                   ...                ...   \n",
      "32576         123          80004                  RENT                2.0   \n",
      "32577         123          78000                  RENT                7.0   \n",
      "32578         144         250000                  RENT                4.0   \n",
      "32579         144         200000              MORTGAGE                4.0   \n",
      "32580         144        6000000              MORTGAGE               12.0   \n",
      "\n",
      "             loan_intent loan_grade  loan_amnt  loan_int_rate  loan_status  \\\n",
      "0                VENTURE          D      16000          15.31            1   \n",
      "1      DEBTCONSOLIDATION          A      12000           8.49            0   \n",
      "2      DEBTCONSOLIDATION          B       9625          10.74            0   \n",
      "3              EDUCATION          A       2000           8.59            0   \n",
      "4              EDUCATION          B      24250          11.36            0   \n",
      "...                  ...        ...        ...            ...          ...   \n",
      "32576          EDUCATION          B      20400          10.25            0   \n",
      "32577            VENTURE          B      20000            NaN            0   \n",
      "32578            VENTURE          C       4800          13.57            0   \n",
      "32579          EDUCATION          B       6000          11.86            0   \n",
      "32580           PERSONAL          C       5000          12.73            0   \n",
      "\n",
      "       loan_percent_income cb_person_default_on_file  \\\n",
      "0                     0.25                         Y   \n",
      "1                     0.14                         N   \n",
      "2                     0.08                         N   \n",
      "3                     0.01                         N   \n",
      "4                     0.31                         N   \n",
      "...                    ...                       ...   \n",
      "32576                 0.25                         N   \n",
      "32577                 0.26                         N   \n",
      "32578                 0.02                         N   \n",
      "32579                 0.03                         N   \n",
      "32580                 0.00                         N   \n",
      "\n",
      "       cb_person_cred_hist_length  \n",
      "0                               4  \n",
      "1                               2  \n",
      "2                               3  \n",
      "3                               4  \n",
      "4                               2  \n",
      "...                           ...  \n",
      "32576                           3  \n",
      "32577                           4  \n",
      "32578                           3  \n",
      "32579                           2  \n",
      "32580                          25  \n",
      "\n",
      "[32581 rows x 12 columns]\n"
     ]
    }
   ],
   "source": [
    "# Para que o índice fique realinhado deve ser utilizada\n",
    "# a função reset_index(), com drop=True, para que o índice\n",
    "# não se transforme em uma nova coluna\n",
    "\n",
    "credito = credito.reset_index(drop=True)\n",
    "\n",
    "print(credito)"
   ]
  },
  {
   "cell_type": "markdown",
   "metadata": {},
   "source": [
    "SELEÇÃO DE SUBCONJUNTOS\n",
    "\n",
    "Utilização de técnicas de seleção de subconjuntos através de filtragens por valores, por datas e por nomes nas células. Adicionalmente, verificou-se a utilização da função .isin()"
   ]
  },
  {
   "cell_type": "code",
   "execution_count": 28,
   "metadata": {},
   "outputs": [
    {
     "name": "stdout",
     "output_type": "stream",
     "text": [
      "0        15.31\n",
      "1         8.49\n",
      "2        10.74\n",
      "3         8.59\n",
      "4        11.36\n",
      "         ...  \n",
      "32576    10.25\n",
      "32577      NaN\n",
      "32578    13.57\n",
      "32579    11.86\n",
      "32580    12.73\n",
      "Name: loan_int_rate, Length: 32581, dtype: float64\n"
     ]
    }
   ],
   "source": [
    "# df['col']\n",
    "# Esta sintaxe é utilizada para selecionar uma coluna específica e retorna\n",
    "# uma Series;\n",
    "\n",
    "print(credito['loan_int_rate'])"
   ]
  },
  {
   "cell_type": "code",
   "execution_count": 29,
   "metadata": {},
   "outputs": [
    {
     "name": "stdout",
     "output_type": "stream",
     "text": [
      "<class 'pandas.core.series.Series'>\n"
     ]
    }
   ],
   "source": [
    "# Matriz unidimensional (ndarray) com rótulos de eixo (incluindo séries temporais).\n",
    "\n",
    "print(type(credito['loan_int_rate']))"
   ]
  },
  {
   "cell_type": "code",
   "execution_count": 30,
   "metadata": {},
   "outputs": [
    {
     "name": "stdout",
     "output_type": "stream",
     "text": [
      "<class 'pandas.core.series.Series'>\n",
      "0        1\n",
      "1        0\n",
      "2        0\n",
      "3        0\n",
      "4        0\n",
      "        ..\n",
      "32576    0\n",
      "32577    0\n",
      "32578    0\n",
      "32579    0\n",
      "32580    0\n",
      "Name: loan_status, Length: 32581, dtype: int64\n"
     ]
    }
   ],
   "source": [
    "# Posso criar uma variável apenas com a coluna desejada,\n",
    "# gerando uma série do Pandas\n",
    "\n",
    "default = credito['loan_status'].copy()\n",
    "\n",
    "print(type(default))\n",
    "\n",
    "print(default)"
   ]
  },
  {
   "cell_type": "code",
   "execution_count": 31,
   "metadata": {},
   "outputs": [
    {
     "name": "stdout",
     "output_type": "stream",
     "text": [
      "       loan_int_rate  loan_status\n",
      "0              15.31            1\n",
      "1               8.49            0\n",
      "2              10.74            0\n",
      "3               8.59            0\n",
      "4              11.36            0\n",
      "...              ...          ...\n",
      "32576          10.25            0\n",
      "32577            NaN            0\n",
      "32578          13.57            0\n",
      "32579          11.86            0\n",
      "32580          12.73            0\n",
      "\n",
      "[32581 rows x 2 columns]\n"
     ]
    }
   ],
   "source": [
    "# df[['col1', 'col2']]\n",
    "# Esta sintaxe é utilizada para selecionar uma coluna específica e retorna\n",
    "# um novo DataFrame;\n",
    "\n",
    "# A seleção de colunas em um DataFrame do pandas utilizando [[ ]]\n",
    "# é uma maneira específica de filtrar múltiplas colunas e retornar um novo DataFrame.\n",
    "\n",
    "print(credito[['loan_int_rate','loan_status']])"
   ]
  },
  {
   "cell_type": "code",
   "execution_count": 32,
   "metadata": {},
   "outputs": [
    {
     "name": "stdout",
     "output_type": "stream",
     "text": [
      "       person_age  person_income person_home_ownership  person_emp_length  \\\n",
      "32293          51          45000                  RENT                1.0   \n",
      "32294          51          60000              MORTGAGE                1.0   \n",
      "32295          51          80000                  RENT                3.0   \n",
      "32296          51          60000              MORTGAGE                8.0   \n",
      "32297          51          52250                  RENT                4.0   \n",
      "...           ...            ...                   ...                ...   \n",
      "32576         123          80004                  RENT                2.0   \n",
      "32577         123          78000                  RENT                7.0   \n",
      "32578         144         250000                  RENT                4.0   \n",
      "32579         144         200000              MORTGAGE                4.0   \n",
      "32580         144        6000000              MORTGAGE               12.0   \n",
      "\n",
      "             loan_intent loan_grade  loan_amnt  loan_int_rate  loan_status  \\\n",
      "32293  DEBTCONSOLIDATION          A      16000           7.90            1   \n",
      "32294           PERSONAL          A       7500            NaN            0   \n",
      "32295            VENTURE          F      18000          18.78            0   \n",
      "32296           PERSONAL          C       8000          13.48            0   \n",
      "32297            VENTURE          C       9200          13.61            0   \n",
      "...                  ...        ...        ...            ...          ...   \n",
      "32576          EDUCATION          B      20400          10.25            0   \n",
      "32577            VENTURE          B      20000            NaN            0   \n",
      "32578            VENTURE          C       4800          13.57            0   \n",
      "32579          EDUCATION          B       6000          11.86            0   \n",
      "32580           PERSONAL          C       5000          12.73            0   \n",
      "\n",
      "       loan_percent_income cb_person_default_on_file  \\\n",
      "32293                 0.36                         N   \n",
      "32294                 0.13                         N   \n",
      "32295                 0.23                         N   \n",
      "32296                 0.13                         Y   \n",
      "32297                 0.18                         N   \n",
      "...                    ...                       ...   \n",
      "32576                 0.25                         N   \n",
      "32577                 0.26                         N   \n",
      "32578                 0.02                         N   \n",
      "32579                 0.03                         N   \n",
      "32580                 0.00                         N   \n",
      "\n",
      "       cb_person_cred_hist_length  \n",
      "32293                          19  \n",
      "32294                          24  \n",
      "32295                          19  \n",
      "32296                          23  \n",
      "32297                          24  \n",
      "...                           ...  \n",
      "32576                           3  \n",
      "32577                           4  \n",
      "32578                           3  \n",
      "32579                           2  \n",
      "32580                          25  \n",
      "\n",
      "[288 rows x 12 columns]\n"
     ]
    }
   ],
   "source": [
    "# df[df['col'] > valor]\n",
    "# Esta sintaxe é utilizada para selecionar linhas com base em uma\n",
    "# condição e retorna um DataFrame com linhas que atendem à condição;\n",
    "\n",
    "print(credito[credito['person_age']>50])"
   ]
  },
  {
   "cell_type": "code",
   "execution_count": 33,
   "metadata": {},
   "outputs": [
    {
     "name": "stdout",
     "output_type": "stream",
     "text": [
      "       person_age  person_income person_home_ownership  person_emp_length  \\\n",
      "32293          51          45000                  RENT                1.0   \n",
      "32294          51          60000              MORTGAGE                1.0   \n",
      "32295          51          80000                  RENT                3.0   \n",
      "32296          51          60000              MORTGAGE                8.0   \n",
      "32297          51          52250                  RENT                4.0   \n",
      "...           ...            ...                   ...                ...   \n",
      "32576         123          80004                  RENT                2.0   \n",
      "32577         123          78000                  RENT                7.0   \n",
      "32578         144         250000                  RENT                4.0   \n",
      "32579         144         200000              MORTGAGE                4.0   \n",
      "32580         144        6000000              MORTGAGE               12.0   \n",
      "\n",
      "             loan_intent loan_grade  loan_amnt  loan_int_rate  loan_status  \\\n",
      "32293  DEBTCONSOLIDATION          A      16000           7.90            1   \n",
      "32294           PERSONAL          A       7500            NaN            0   \n",
      "32295            VENTURE          F      18000          18.78            0   \n",
      "32296           PERSONAL          C       8000          13.48            0   \n",
      "32297            VENTURE          C       9200          13.61            0   \n",
      "...                  ...        ...        ...            ...          ...   \n",
      "32576          EDUCATION          B      20400          10.25            0   \n",
      "32577            VENTURE          B      20000            NaN            0   \n",
      "32578            VENTURE          C       4800          13.57            0   \n",
      "32579          EDUCATION          B       6000          11.86            0   \n",
      "32580           PERSONAL          C       5000          12.73            0   \n",
      "\n",
      "       loan_percent_income cb_person_default_on_file  \\\n",
      "32293                 0.36                         N   \n",
      "32294                 0.13                         N   \n",
      "32295                 0.23                         N   \n",
      "32296                 0.13                         Y   \n",
      "32297                 0.18                         N   \n",
      "...                    ...                       ...   \n",
      "32576                 0.25                         N   \n",
      "32577                 0.26                         N   \n",
      "32578                 0.02                         N   \n",
      "32579                 0.03                         N   \n",
      "32580                 0.00                         N   \n",
      "\n",
      "       cb_person_cred_hist_length  \n",
      "32293                          19  \n",
      "32294                          24  \n",
      "32295                          19  \n",
      "32296                          23  \n",
      "32297                          24  \n",
      "...                           ...  \n",
      "32576                           3  \n",
      "32577                           4  \n",
      "32578                           3  \n",
      "32579                           2  \n",
      "32580                          25  \n",
      "\n",
      "[288 rows x 12 columns]\n"
     ]
    }
   ],
   "source": [
    "# Posso criar novos dataframes com linhas que\n",
    "# correspondem apenas aos meus filtros\n",
    "\n",
    "credito_over_50 = credito[credito['person_age']>50].copy()\n",
    "print(credito_over_50)"
   ]
  },
  {
   "cell_type": "code",
   "execution_count": 34,
   "metadata": {},
   "outputs": [
    {
     "name": "stdout",
     "output_type": "stream",
     "text": [
      "       person_age  person_income        loan_intent  loan_status\n",
      "32293          51          45000  DEBTCONSOLIDATION            1\n",
      "32294          51          60000           PERSONAL            0\n",
      "32295          51          80000            VENTURE            0\n",
      "32296          51          60000           PERSONAL            0\n",
      "32297          51          52250            VENTURE            0\n",
      "...           ...            ...                ...          ...\n",
      "32576         123          80004          EDUCATION            0\n",
      "32577         123          78000            VENTURE            0\n",
      "32578         144         250000            VENTURE            0\n",
      "32579         144         200000          EDUCATION            0\n",
      "32580         144        6000000           PERSONAL            0\n",
      "\n",
      "[288 rows x 4 columns]\n"
     ]
    }
   ],
   "source": [
    "# Posso também selecionar apenas colunas específicas que vou utilizar\n",
    "# no meu novo dataframe\n",
    "\n",
    "credito_over_50 = credito_over_50[['person_age', 'person_income',\n",
    "                                   'loan_intent','loan_status']].copy()\n",
    "\n",
    "# ou\n",
    "\n",
    "credito_over_50 = credito[credito['person_age']>50][['person_age',\n",
    "                                                     'person_income',\n",
    "                                                     'loan_intent','loan_status']].copy()\n",
    "print(credito_over_50)"
   ]
  },
  {
   "cell_type": "code",
   "execution_count": 35,
   "metadata": {},
   "outputs": [
    {
     "name": "stdout",
     "output_type": "stream",
     "text": [
      "32293    1\n",
      "32294    0\n",
      "32295    0\n",
      "32296    0\n",
      "32297    0\n",
      "        ..\n",
      "32576    0\n",
      "32577    0\n",
      "32578    0\n",
      "32579    0\n",
      "32580    0\n",
      "Name: loan_status, Length: 288, dtype: int64\n"
     ]
    }
   ],
   "source": [
    "print(credito[credito['person_age']>50]['loan_status'])"
   ]
  },
  {
   "cell_type": "code",
   "execution_count": 36,
   "metadata": {},
   "outputs": [
    {
     "name": "stdout",
     "output_type": "stream",
     "text": [
      "       person_age  loan_status\n",
      "32293          51            1\n",
      "32294          51            0\n",
      "32295          51            0\n",
      "32296          51            0\n",
      "32297          51            0\n",
      "...           ...          ...\n",
      "32576         123            0\n",
      "32577         123            0\n",
      "32578         144            0\n",
      "32579         144            0\n",
      "32580         144            0\n",
      "\n",
      "[288 rows x 2 columns]\n"
     ]
    }
   ],
   "source": [
    "print(credito[credito['person_age']>50][['person_age','loan_status']])"
   ]
  },
  {
   "cell_type": "code",
   "execution_count": 37,
   "metadata": {},
   "outputs": [
    {
     "name": "stdout",
     "output_type": "stream",
     "text": [
      "      person_age  loan_status\n",
      "1244          22            0\n",
      "1245          22            1\n",
      "1246          22            1\n",
      "1247          22            1\n",
      "1248          22            0\n",
      "...          ...          ...\n",
      "4872          22            0\n",
      "4873          22            0\n",
      "4874          22            0\n",
      "4875          22            0\n",
      "4876          22            0\n",
      "\n",
      "[3633 rows x 2 columns]\n"
     ]
    }
   ],
   "source": [
    "print(credito[credito['person_age']==22][['person_age','loan_status']])"
   ]
  },
  {
   "cell_type": "code",
   "execution_count": 38,
   "metadata": {},
   "outputs": [
    {
     "name": "stdout",
     "output_type": "stream",
     "text": [
      "       person_age  loan_status\n",
      "0              20            1\n",
      "1              20            0\n",
      "2              20            0\n",
      "3              20            0\n",
      "4              20            0\n",
      "...           ...          ...\n",
      "15347          25            0\n",
      "15348          25            0\n",
      "15349          25            0\n",
      "15350          25            0\n",
      "15351          25            0\n",
      "\n",
      "[15352 rows x 2 columns]\n"
     ]
    }
   ],
   "source": [
    "print(credito[credito['person_age']<=25][['person_age','loan_status']])"
   ]
  },
  {
   "cell_type": "code",
   "execution_count": 39,
   "metadata": {},
   "outputs": [
    {
     "name": "stdout",
     "output_type": "stream",
     "text": [
      "       person_age  person_income person_home_ownership  person_emp_length  \\\n",
      "3              20         188004              MORTGAGE                4.0   \n",
      "4              20          77052              MORTGAGE                4.0   \n",
      "9              20          98000              MORTGAGE                4.0   \n",
      "13             20          65000              MORTGAGE                4.0   \n",
      "14             20          94000                  RENT                4.0   \n",
      "...           ...            ...                   ...                ...   \n",
      "32543          65          57996                  RENT                4.0   \n",
      "32545          65          76000                  RENT                3.0   \n",
      "32554          66          40000                  RENT                2.0   \n",
      "32576         123          80004                  RENT                2.0   \n",
      "32579         144         200000              MORTGAGE                4.0   \n",
      "\n",
      "      loan_intent loan_grade  loan_amnt  loan_int_rate  loan_status  \\\n",
      "3       EDUCATION          A       2000           8.59            0   \n",
      "4       EDUCATION          B      24250          11.36            0   \n",
      "9       EDUCATION          D      24250            NaN            0   \n",
      "13      EDUCATION          B       4800           9.99            0   \n",
      "14      EDUCATION          D       5000          16.02            0   \n",
      "...           ...        ...        ...            ...          ...   \n",
      "32543   EDUCATION          D       3000            NaN            0   \n",
      "32545   EDUCATION          B      35000          10.99            1   \n",
      "32554   EDUCATION          E       7000          15.68            1   \n",
      "32576   EDUCATION          B      20400          10.25            0   \n",
      "32579   EDUCATION          B       6000          11.86            0   \n",
      "\n",
      "       loan_percent_income cb_person_default_on_file  \\\n",
      "3                     0.01                         N   \n",
      "4                     0.31                         N   \n",
      "9                     0.25                         N   \n",
      "13                    0.07                         N   \n",
      "14                    0.05                         N   \n",
      "...                    ...                       ...   \n",
      "32543                 0.05                         N   \n",
      "32545                 0.46                         N   \n",
      "32554                 0.17                         Y   \n",
      "32576                 0.25                         N   \n",
      "32579                 0.03                         N   \n",
      "\n",
      "       cb_person_cred_hist_length  \n",
      "3                               4  \n",
      "4                               2  \n",
      "9                               4  \n",
      "13                              2  \n",
      "14                              3  \n",
      "...                           ...  \n",
      "32543                          27  \n",
      "32545                          27  \n",
      "32554                          29  \n",
      "32576                           3  \n",
      "32579                           2  \n",
      "\n",
      "[6453 rows x 12 columns]\n"
     ]
    }
   ],
   "source": [
    "# df[df['col'] == 'texto']\n",
    "# Esta sintaxe é utilizada para filtrar linhas que tenham uma\n",
    "# correspondência exata de texto em uma coluna.\n",
    "\n",
    "print(credito[credito['loan_intent']=='EDUCATION'])"
   ]
  },
  {
   "cell_type": "code",
   "execution_count": 40,
   "metadata": {},
   "outputs": [
    {
     "name": "stdout",
     "output_type": "stream",
     "text": [
      "       person_age  person_income loan_intent\n",
      "3              20         188004   EDUCATION\n",
      "4              20          77052   EDUCATION\n",
      "9              20          98000   EDUCATION\n",
      "13             20          65000   EDUCATION\n",
      "14             20          94000   EDUCATION\n",
      "...           ...            ...         ...\n",
      "32543          65          57996   EDUCATION\n",
      "32545          65          76000   EDUCATION\n",
      "32554          66          40000   EDUCATION\n",
      "32576         123          80004   EDUCATION\n",
      "32579         144         200000   EDUCATION\n",
      "\n",
      "[6453 rows x 3 columns]\n"
     ]
    }
   ],
   "source": [
    "print(credito[credito['loan_intent']=='EDUCATION'][['person_age', 'person_income', 'loan_intent']])"
   ]
  },
  {
   "cell_type": "code",
   "execution_count": 41,
   "metadata": {},
   "outputs": [
    {
     "name": "stdout",
     "output_type": "stream",
     "text": [
      "       person_age  person_income person_home_ownership  person_emp_length  \\\n",
      "32520          62          66000                  RENT                2.0   \n",
      "32524          62          76500                  RENT                0.0   \n",
      "32527          63        1782000                  RENT               13.0   \n",
      "32541          65          45900                  RENT                2.0   \n",
      "32543          65          57996                  RENT                4.0   \n",
      "32545          65          76000                  RENT                3.0   \n",
      "32554          66          40000                  RENT                2.0   \n",
      "32576         123          80004                  RENT                2.0   \n",
      "32579         144         200000              MORTGAGE                4.0   \n",
      "\n",
      "      loan_intent loan_grade  loan_amnt  loan_int_rate  loan_status  \\\n",
      "32520   EDUCATION          B       6000            NaN            0   \n",
      "32524   EDUCATION          D      20000          16.77            1   \n",
      "32527   EDUCATION          C      12025          14.27            0   \n",
      "32541   EDUCATION          C      10000            NaN            0   \n",
      "32543   EDUCATION          D       3000            NaN            0   \n",
      "32545   EDUCATION          B      35000          10.99            1   \n",
      "32554   EDUCATION          E       7000          15.68            1   \n",
      "32576   EDUCATION          B      20400          10.25            0   \n",
      "32579   EDUCATION          B       6000          11.86            0   \n",
      "\n",
      "       loan_percent_income cb_person_default_on_file  \\\n",
      "32520                 0.09                         N   \n",
      "32524                 0.26                         Y   \n",
      "32527                 0.01                         N   \n",
      "32541                 0.22                         Y   \n",
      "32543                 0.05                         N   \n",
      "32545                 0.46                         N   \n",
      "32554                 0.17                         Y   \n",
      "32576                 0.25                         N   \n",
      "32579                 0.03                         N   \n",
      "\n",
      "       cb_person_cred_hist_length  \n",
      "32520                          23  \n",
      "32524                          29  \n",
      "32527                          30  \n",
      "32541                          19  \n",
      "32543                          27  \n",
      "32545                          27  \n",
      "32554                          29  \n",
      "32576                           3  \n",
      "32579                           2  \n"
     ]
    }
   ],
   "source": [
    "# df[(df['col1'] == valor1) & (df['col2'] < valor2)]\n",
    "#  A combinação de condições lógicas pode ser utilizada para filtrar linhas;\n",
    "\n",
    "print(credito[(credito['loan_intent']=='EDUCATION')\n",
    "              & (credito['person_age']>=59)])"
   ]
  },
  {
   "cell_type": "code",
   "execution_count": 42,
   "metadata": {},
   "outputs": [
    {
     "name": "stdout",
     "output_type": "stream",
     "text": [
      "(4582, 12)\n",
      "       loan_int_rate  loan_status  person_age\n",
      "16             18.25            1          21\n",
      "22              5.42            0          21\n",
      "25              5.42            0          21\n",
      "29              5.99            0          21\n",
      "39              6.17            1          21\n",
      "...              ...          ...         ...\n",
      "32550           5.42            0          66\n",
      "32556           6.62            0          69\n",
      "32560           6.62            0          69\n",
      "32562          17.49            1          70\n",
      "32565           6.99            1          70\n",
      "\n",
      "[4582 rows x 3 columns]\n"
     ]
    }
   ],
   "source": [
    "# Posso criar um dataframe com os valores extremos\n",
    "# (menores que 7 ou maiores que 17) \n",
    "# das taxas de juros para estudo posterior\n",
    "\n",
    "credito_taxas = credito[(credito['loan_int_rate']<=7) |\n",
    "                        (credito['loan_int_rate']>=17)]\n",
    "print(credito_taxas.shape)\n",
    "print(credito_taxas[['loan_int_rate','loan_status', 'person_age']])"
   ]
  },
  {
   "cell_type": "code",
   "execution_count": 43,
   "metadata": {},
   "outputs": [
    {
     "name": "stdout",
     "output_type": "stream",
     "text": [
      "Empty DataFrame\n",
      "Columns: [person_age, person_income, person_home_ownership, person_emp_length, loan_intent, loan_grade, loan_amnt, loan_int_rate, loan_status, loan_percent_income, cb_person_default_on_file, cb_person_cred_hist_length]\n",
      "Index: []\n"
     ]
    }
   ],
   "source": [
    "# Se as condições não forem atendidas, o print retorna um dataframe vazio\n",
    "\n",
    "print(credito[(credito['loan_intent']=='EDUCATION')\n",
    "              & credito['person_age']==65])"
   ]
  },
  {
   "cell_type": "code",
   "execution_count": 44,
   "metadata": {},
   "outputs": [
    {
     "name": "stdout",
     "output_type": "stream",
     "text": [
      "      loan_intent  person_age  loan_status\n",
      "32520   EDUCATION          62            0\n",
      "32524   EDUCATION          62            1\n",
      "32527   EDUCATION          63            0\n",
      "32541   EDUCATION          65            0\n",
      "32543   EDUCATION          65            0\n",
      "32545   EDUCATION          65            1\n",
      "32554   EDUCATION          66            1\n",
      "32576   EDUCATION         123            0\n",
      "32579   EDUCATION         144            0\n"
     ]
    }
   ],
   "source": [
    "print(credito[(credito['loan_intent']=='EDUCATION')\n",
    "              & (credito['person_age']>=59)][['loan_intent', 'person_age', 'loan_status']])"
   ]
  },
  {
   "cell_type": "code",
   "execution_count": 45,
   "metadata": {},
   "outputs": [
    {
     "name": "stdout",
     "output_type": "stream",
     "text": [
      "      loan_intent  person_age  loan_status\n",
      "3       EDUCATION          20            0\n",
      "4       EDUCATION          20            0\n",
      "9       EDUCATION          20            0\n",
      "13      EDUCATION          20            0\n",
      "14      EDUCATION          20            0\n",
      "...           ...         ...          ...\n",
      "32576   EDUCATION         123            0\n",
      "32577     VENTURE         123            0\n",
      "32578     VENTURE         144            0\n",
      "32579   EDUCATION         144            0\n",
      "32580    PERSONAL         144            0\n",
      "\n",
      "[6534 rows x 3 columns]\n"
     ]
    }
   ],
   "source": [
    "# df[(df['col1'] == valor1) | (df['col2'] < valor2)]\n",
    "# | é o operador \"ou\" e seleciona as linhas onde pelo menos uma das\n",
    "# condições anteriores é verdadeira;\n",
    "\n",
    "print(credito[(credito['loan_intent']=='EDUCATION')\n",
    "              | (credito['person_age']>=59)][['loan_intent', 'person_age', 'loan_status']])"
   ]
  },
  {
   "cell_type": "code",
   "execution_count": 46,
   "metadata": {},
   "outputs": [
    {
     "name": "stdout",
     "output_type": "stream",
     "text": [
      "             loan_intent  loan_status cb_person_default_on_file\n",
      "0                VENTURE            1                         Y\n",
      "5                VENTURE            0                         Y\n",
      "10              PERSONAL            1                         N\n",
      "11               MEDICAL            0                         Y\n",
      "16              PERSONAL            1                         Y\n",
      "...                  ...          ...                       ...\n",
      "32558            MEDICAL            0                         Y\n",
      "32559            MEDICAL            0                         Y\n",
      "32561            MEDICAL            0                         Y\n",
      "32562  DEBTCONSOLIDATION            1                         Y\n",
      "32565            MEDICAL            1                         N\n",
      "\n",
      "[10681 rows x 3 columns]\n"
     ]
    }
   ],
   "source": [
    "print(credito[(credito['loan_status']==1)\n",
    "              | (credito['cb_person_default_on_file']=='Y')][['loan_intent', 'loan_status', 'cb_person_default_on_file']])"
   ]
  },
  {
   "cell_type": "code",
   "execution_count": 47,
   "metadata": {},
   "outputs": [
    {
     "name": "stdout",
     "output_type": "stream",
     "text": [
      "             loan_intent  loan_status cb_person_default_on_file\n",
      "1      DEBTCONSOLIDATION            0                         N\n",
      "2      DEBTCONSOLIDATION            0                         N\n",
      "3              EDUCATION            0                         N\n",
      "4              EDUCATION            0                         N\n",
      "5                VENTURE            0                         Y\n",
      "...                  ...          ...                       ...\n",
      "32576          EDUCATION            0                         N\n",
      "32577            VENTURE            0                         N\n",
      "32578            VENTURE            0                         N\n",
      "32579          EDUCATION            0                         N\n",
      "32580           PERSONAL            0                         N\n",
      "\n",
      "[25473 rows x 3 columns]\n"
     ]
    }
   ],
   "source": [
    "# Agora vou selecionar apenas os empréstimos onde loan_status é diferentes de 1,\n",
    "# com o sinal de diferença !=\n",
    "\n",
    "print(credito[credito['loan_status']!=1][['loan_intent', 'loan_status',\n",
    "                                          'cb_person_default_on_file']])"
   ]
  },
  {
   "cell_type": "code",
   "execution_count": 48,
   "metadata": {},
   "outputs": [
    {
     "name": "stdout",
     "output_type": "stream",
     "text": [
      "       person_age  person_income person_home_ownership  person_emp_length  \\\n",
      "12315          25         108960              MORTGAGE                0.0   \n",
      "12316          25          95000                  RENT                0.0   \n",
      "12317          25         109000              MORTGAGE                9.0   \n",
      "12318          25          99275                  RENT                1.0   \n",
      "12319          25          70000              MORTGAGE                3.0   \n",
      "...           ...            ...                   ...                ...   \n",
      "15347          25          26004              MORTGAGE                3.0   \n",
      "15348          25          41579                  RENT                9.0   \n",
      "15349          25          50000              MORTGAGE                9.0   \n",
      "15350          25          49244                  RENT                3.0   \n",
      "15351          25          35392                  RENT                9.0   \n",
      "\n",
      "           loan_intent loan_grade  loan_amnt  loan_int_rate  loan_status  \\\n",
      "12315         PERSONAL          C      10000          13.57            0   \n",
      "12316  HOMEIMPROVEMENT          A       8600           8.59            0   \n",
      "12317          VENTURE          A      12000           7.51            0   \n",
      "12318         PERSONAL          C      10000          14.65            0   \n",
      "12319          MEDICAL          A       8000           6.99            0   \n",
      "...                ...        ...        ...            ...          ...   \n",
      "15347        EDUCATION          B      10000           9.91            0   \n",
      "15348          VENTURE          C       8000          13.92            0   \n",
      "15349  HOMEIMPROVEMENT          B       8000          10.00            0   \n",
      "15350        EDUCATION          A       8000           8.00            0   \n",
      "15351        EDUCATION          A       6000           7.40            0   \n",
      "\n",
      "       loan_percent_income cb_person_default_on_file  \\\n",
      "12315                 0.09                         N   \n",
      "12316                 0.09                         N   \n",
      "12317                 0.11                         N   \n",
      "12318                 0.10                         Y   \n",
      "12319                 0.11                         N   \n",
      "...                    ...                       ...   \n",
      "15347                 0.38                         N   \n",
      "15348                 0.19                         Y   \n",
      "15349                 0.16                         N   \n",
      "15350                 0.16                         N   \n",
      "15351                 0.17                         N   \n",
      "\n",
      "       cb_person_cred_hist_length  \n",
      "12315                           3  \n",
      "12316                           2  \n",
      "12317                           4  \n",
      "12318                           3  \n",
      "12319                           4  \n",
      "...                           ...  \n",
      "15347                           2  \n",
      "15348                           3  \n",
      "15349                           2  \n",
      "15350                           3  \n",
      "15351                           3  \n",
      "\n",
      "[3037 rows x 12 columns]\n"
     ]
    }
   ],
   "source": [
    "# df[df['col1'].isin([valor1, valor2])]\n",
    "# Este método é útil para filtrar linhas onde a coluna contém um dos\n",
    "# valores especificados na lista.\n",
    "\n",
    "print(credito[credito['person_age'].isin([25])])"
   ]
  },
  {
   "cell_type": "code",
   "execution_count": 49,
   "metadata": {},
   "outputs": [
    {
     "name": "stdout",
     "output_type": "stream",
     "text": [
      "       person_age  person_income person_home_ownership  person_emp_length  \\\n",
      "32537          65         133000              MORTGAGE                2.0   \n",
      "32538          65         120000              MORTGAGE                0.0   \n",
      "32539          65          45900                  RENT                2.0   \n",
      "32540          65          93000              MORTGAGE               27.0   \n",
      "32541          65          45900                  RENT                2.0   \n",
      "32542          65          46000                  RENT                5.0   \n",
      "32543          65          57996                  RENT                4.0   \n",
      "32544          65          76000                  RENT                3.0   \n",
      "32545          65          76000                  RENT                3.0   \n",
      "32555          67         200000              MORTGAGE                2.0   \n",
      "\n",
      "             loan_intent loan_grade  loan_amnt  loan_int_rate  loan_status  \\\n",
      "32537  DEBTCONSOLIDATION          E      18000            NaN            1   \n",
      "32538           PERSONAL          B      12000          11.48            0   \n",
      "32539           PERSONAL          C      10000            NaN            0   \n",
      "32540           PERSONAL          B      25000           9.99            0   \n",
      "32541          EDUCATION          C      10000            NaN            0   \n",
      "32542            VENTURE          E      10500          16.32            0   \n",
      "32543          EDUCATION          D       3000            NaN            0   \n",
      "32544    HOMEIMPROVEMENT          B      35000          10.99            1   \n",
      "32545          EDUCATION          B      35000          10.99            1   \n",
      "32555           PERSONAL          C       3000          10.28            0   \n",
      "\n",
      "       loan_percent_income cb_person_default_on_file  \\\n",
      "32537                 0.14                         N   \n",
      "32538                 0.10                         N   \n",
      "32539                 0.22                         N   \n",
      "32540                 0.27                         N   \n",
      "32541                 0.22                         Y   \n",
      "32542                 0.23                         Y   \n",
      "32543                 0.05                         N   \n",
      "32544                 0.46                         N   \n",
      "32545                 0.46                         N   \n",
      "32555                 0.01                         N   \n",
      "\n",
      "       cb_person_cred_hist_length  \n",
      "32537                          25  \n",
      "32538                          21  \n",
      "32539                          29  \n",
      "32540                          27  \n",
      "32541                          19  \n",
      "32542                          24  \n",
      "32543                          27  \n",
      "32544                          28  \n",
      "32545                          27  \n",
      "32555                          26  \n"
     ]
    }
   ],
   "source": [
    "print(credito[credito['person_age'].isin([65, 67, 92])])"
   ]
  },
  {
   "cell_type": "code",
   "execution_count": 50,
   "metadata": {},
   "outputs": [
    {
     "name": "stdout",
     "output_type": "stream",
     "text": [
      "       person_age person_home_ownership  loan_status\n",
      "32537          65              MORTGAGE            1\n",
      "32538          65              MORTGAGE            0\n",
      "32540          65              MORTGAGE            0\n",
      "32555          67              MORTGAGE            0\n"
     ]
    }
   ],
   "source": [
    "print(credito[(credito['person_age'].isin([65, 67, 92])) &\n",
    "              (credito['person_home_ownership'].isin(['MORTGAGE']))][['person_age', 'person_home_ownership', 'loan_status']])"
   ]
  },
  {
   "cell_type": "code",
   "execution_count": 51,
   "metadata": {},
   "outputs": [
    {
     "name": "stdout",
     "output_type": "stream",
     "text": [
      "    person_age  person_income person_home_ownership  person_emp_length  \\\n",
      "0           21          41004              MORTGAGE                5.0   \n",
      "1           21          19500              MORTGAGE                0.0   \n",
      "2           22          36000              MORTGAGE                6.0   \n",
      "3           22          47000              MORTGAGE                6.0   \n",
      "4           22          20000              MORTGAGE                0.0   \n",
      "5           23          43600              MORTGAGE                5.0   \n",
      "6           23          47148              MORTGAGE                3.0   \n",
      "7           23          34000              MORTGAGE                7.0   \n",
      "8           23          31000              MORTGAGE                6.0   \n",
      "9           24          44000              MORTGAGE                5.0   \n",
      "10          24          42000              MORTGAGE                8.0   \n",
      "11          24          43300              MORTGAGE                2.0   \n",
      "12          24          37000              MORTGAGE                4.0   \n",
      "13          24          29000              MORTGAGE                1.0   \n",
      "14          24          43300              MORTGAGE                2.0   \n",
      "15          24          42000              MORTGAGE                8.0   \n",
      "16          24          30000              MORTGAGE                8.0   \n",
      "17          24          18000              MORTGAGE                0.0   \n",
      "18          25          32004              MORTGAGE                3.0   \n",
      "19          25           9600              MORTGAGE                1.0   \n",
      "20          25          48000              MORTGAGE                6.0   \n",
      "21          25          46000              MORTGAGE                5.0   \n",
      "22          26          44000              MORTGAGE                3.0   \n",
      "23          26          58000              MORTGAGE                5.0   \n",
      "24          27          54000              MORTGAGE                1.0   \n",
      "25          27          44000              MORTGAGE                3.0   \n",
      "26          27          54000              MORTGAGE                1.0   \n",
      "27          28          60000              MORTGAGE                3.0   \n",
      "28          28          27500              MORTGAGE               13.0   \n",
      "29          29          40000              MORTGAGE               13.0   \n",
      "30          29          40000              MORTGAGE               13.0   \n",
      "31          29          36000              MORTGAGE                2.0   \n",
      "32          29          44000              MORTGAGE               13.0   \n",
      "33          30          35000              MORTGAGE                NaN   \n",
      "34          31          39000              MORTGAGE                5.0   \n",
      "35          33          54000              MORTGAGE                7.0   \n",
      "36          33          26000              MORTGAGE                1.0   \n",
      "37          54          39000              MORTGAGE                4.0   \n",
      "\n",
      "          loan_intent loan_grade  loan_amnt  loan_int_rate  loan_status  \\\n",
      "0             VENTURE          B      24250          10.75            0   \n",
      "1           EDUCATION          B      15000           9.64            1   \n",
      "2            PERSONAL          A      18500           7.90            0   \n",
      "3             MEDICAL          B      24000          10.37            1   \n",
      "4            PERSONAL          B      16600           9.76            0   \n",
      "5   DEBTCONSOLIDATION          B      25000            NaN            1   \n",
      "6             MEDICAL          A      25000           7.49            1   \n",
      "7   DEBTCONSOLIDATION          B      19000          11.48            0   \n",
      "8           EDUCATION          B      18500            NaN            0   \n",
      "9   DEBTCONSOLIDATION          D      22800          17.27            1   \n",
      "10            VENTURE          B      22250          11.11            0   \n",
      "11          EDUCATION          B      24000          10.62            0   \n",
      "12            MEDICAL          B      25000          10.08            0   \n",
      "13    HOMEIMPROVEMENT          B      20000          10.62            0   \n",
      "14  DEBTCONSOLIDATION          B      24000          10.62            0   \n",
      "15  DEBTCONSOLIDATION          B      22250          11.11            0   \n",
      "16  DEBTCONSOLIDATION          B      17000          11.99            1   \n",
      "17  DEBTCONSOLIDATION          B      10000          12.18            1   \n",
      "18           PERSONAL          A      22750           6.17            0   \n",
      "19            MEDICAL          C       5500          12.87            1   \n",
      "20          EDUCATION          B      24250          10.25            0   \n",
      "21          EDUCATION          B      23500          10.25            0   \n",
      "22          EDUCATION          A      22500            NaN            1   \n",
      "23            MEDICAL          B      31300          11.71            0   \n",
      "24    HOMEIMPROVEMENT          B      27575            NaN            0   \n",
      "25  DEBTCONSOLIDATION          B      24000           8.88            1   \n",
      "26    HOMEIMPROVEMENT          B      27575            NaN            0   \n",
      "27          EDUCATION          B      35000          10.59            0   \n",
      "28            VENTURE          A      15000           6.54            0   \n",
      "29           PERSONAL          B      25000          11.86            0   \n",
      "30    HOMEIMPROVEMENT          B      25000          11.86            0   \n",
      "31           PERSONAL          D      20000            NaN            0   \n",
      "32            MEDICAL          A      24000           6.91            0   \n",
      "33  DEBTCONSOLIDATION          B      22750          10.62            0   \n",
      "34          EDUCATION          B      22000          11.36            1   \n",
      "35  DEBTCONSOLIDATION          C      32000          15.23            1   \n",
      "36  DEBTCONSOLIDATION          B      15000           9.76            1   \n",
      "37           PERSONAL          B      20000          10.71            0   \n",
      "\n",
      "    loan_percent_income cb_person_default_on_file  cb_person_cred_hist_length  \n",
      "0                  0.59                         N                           2  \n",
      "1                  0.77                         N                           2  \n",
      "2                  0.51                         N                           4  \n",
      "3                  0.51                         N                           4  \n",
      "4                  0.83                         N                           3  \n",
      "5                  0.57                         N                           3  \n",
      "6                  0.53                         N                           3  \n",
      "7                  0.56                         N                           4  \n",
      "8                  0.60                         N                           4  \n",
      "9                  0.52                         N                           3  \n",
      "10                 0.53                         N                           2  \n",
      "11                 0.55                         N                           2  \n",
      "12                 0.68                         N                           2  \n",
      "13                 0.69                         N                           3  \n",
      "14                 0.55                         N                           2  \n",
      "15                 0.53                         N                           3  \n",
      "16                 0.57                         N                           3  \n",
      "17                 0.56                         N                           2  \n",
      "18                 0.71                         N                           4  \n",
      "19                 0.57                         N                           3  \n",
      "20                 0.51                         N                           3  \n",
      "21                 0.51                         N                           4  \n",
      "22                 0.51                         N                           3  \n",
      "23                 0.54                         N                           3  \n",
      "24                 0.51                         N                          10  \n",
      "25                 0.55                         N                           9  \n",
      "26                 0.51                         N                           5  \n",
      "27                 0.58                         N                           6  \n",
      "28                 0.55                         N                          10  \n",
      "29                 0.63                         N                           7  \n",
      "30                 0.63                         N                           6  \n",
      "31                 0.56                         N                           6  \n",
      "32                 0.55                         N                           8  \n",
      "33                 0.65                         N                          10  \n",
      "34                 0.56                         N                           5  \n",
      "35                 0.59                         N                           7  \n",
      "36                 0.58                         N                           6  \n",
      "37                 0.51                         N                          19  \n"
     ]
    }
   ],
   "source": [
    "# Quero criar um banco de dados apenas de pessoas que não\n",
    "# tem histórico de inadimplência, tomaram um empréstimo muito grande\n",
    "# em relação à sua renda e possuem um imóvel financiado\n",
    "# para estudá-lo posteriormente\n",
    "\n",
    "credito_low_inad = credito[(credito['cb_person_default_on_file']!='Y') &\n",
    "                            (credito['loan_percent_income']>0.50) &\n",
    "                            (credito['person_home_ownership']=='MORTGAGE')].reset_index(drop=True).copy()\n",
    "\n",
    "print(credito_low_inad)"
   ]
  },
  {
   "cell_type": "markdown",
   "metadata": {},
   "source": [
    "CRIAÇÃO E MODIFICAÇÃO DE NOVAS COLUNAS\n",
    "\n",
    "Utilização de técnicas matemáticas e estatísticas para a criação e modificação dos valores das colunas"
   ]
  },
  {
   "cell_type": "code",
   "execution_count": 52,
   "metadata": {},
   "outputs": [
    {
     "name": "stdout",
     "output_type": "stream",
     "text": [
      "       person_income  person_income_m\n",
      "0              64000      5333.333333\n",
      "1              85920      7160.000000\n",
      "2             115731      9644.250000\n",
      "3             188004     15667.000000\n",
      "4              77052      6421.000000\n",
      "...              ...              ...\n",
      "32576          80004      6667.000000\n",
      "32577          78000      6500.000000\n",
      "32578         250000     20833.333333\n",
      "32579         200000     16666.666667\n",
      "32580        6000000    500000.000000\n",
      "\n",
      "[32581 rows x 2 columns]\n"
     ]
    }
   ],
   "source": [
    "# A renda está em valores anuais e eu gostaria de criar uma nova coluna \n",
    "# transformando a renda em valores mensais\n",
    "\n",
    "credito['person_income_m'] = credito['person_income']/12\n",
    "\n",
    "print(credito[['person_income', 'person_income_m']])"
   ]
  },
  {
   "cell_type": "code",
   "execution_count": 53,
   "metadata": {},
   "outputs": [
    {
     "name": "stdout",
     "output_type": "stream",
     "text": [
      "       person_emp_length  person_emp_length_m\n",
      "0                    3.0                 36.0\n",
      "1                    3.0                 36.0\n",
      "2                    4.0                 48.0\n",
      "3                    4.0                 48.0\n",
      "4                    4.0                 48.0\n",
      "...                  ...                  ...\n",
      "32576                2.0                 24.0\n",
      "32577                7.0                 84.0\n",
      "32578                4.0                 48.0\n",
      "32579                4.0                 48.0\n",
      "32580               12.0                144.0\n",
      "\n",
      "[32581 rows x 2 columns]\n"
     ]
    }
   ],
   "source": [
    "# O prazo do empréstimo está em anos e quero transformá-lo em meses\n",
    "\n",
    "credito['person_emp_length_m'] = credito['person_emp_length'] * 12\n",
    "\n",
    "print(credito[['person_emp_length', 'person_emp_length_m']])"
   ]
  },
  {
   "cell_type": "code",
   "execution_count": 54,
   "metadata": {},
   "outputs": [
    {
     "name": "stdout",
     "output_type": "stream",
     "text": [
      "       person_income  loan_amnt  Pat_Liq\n",
      "0              64000      16000    48000\n",
      "1              85920      12000    73920\n",
      "2             115731       9625   106106\n",
      "3             188004       2000   186004\n",
      "4              77052      24250    52802\n",
      "...              ...        ...      ...\n",
      "32576          80004      20400    59604\n",
      "32577          78000      20000    58000\n",
      "32578         250000       4800   245200\n",
      "32579         200000       6000   194000\n",
      "32580        6000000       5000  5995000\n",
      "\n",
      "[32581 rows x 3 columns]\n"
     ]
    }
   ],
   "source": [
    "# Criação da coluna patrimônio líquido, como a diferença entre\n",
    "# o valor do empréstimo e o total de renda anual\n",
    "\n",
    "credito['Pat_Liq'] = credito['person_income'] - credito['loan_amnt']\n",
    "\n",
    "print(credito[['person_income', 'loan_amnt', 'Pat_Liq']])"
   ]
  },
  {
   "cell_type": "code",
   "execution_count": 55,
   "metadata": {},
   "outputs": [
    {
     "name": "stdout",
     "output_type": "stream",
     "text": [
      "       loan_int_rate  loan_int_rate_m\n",
      "0              15.31         1.194191\n",
      "1               8.49         0.681376\n",
      "2              10.74         0.853748\n",
      "3               8.59         0.689106\n",
      "4              11.36         0.900682\n",
      "...              ...              ...\n",
      "32576          10.25         0.816485\n",
      "32577            NaN              NaN\n",
      "32578          13.57         1.066052\n",
      "32579          11.86         0.938358\n",
      "32580          12.73         1.003547\n",
      "\n",
      "[32581 rows x 2 columns]\n"
     ]
    }
   ],
   "source": [
    "# Transformação da taxa de juros anual em mensal\n",
    "\n",
    "credito['loan_int_rate_m'] = (((1 + credito['loan_int_rate']/100) ** (1/12))-1)*100\n",
    "\n",
    "print(credito[['loan_int_rate', 'loan_int_rate_m']])"
   ]
  },
  {
   "cell_type": "markdown",
   "metadata": {},
   "source": [
    "FIM"
   ]
  }
 ],
 "metadata": {
  "kernelspec": {
   "display_name": "Python 3",
   "language": "python",
   "name": "python3"
  },
  "language_info": {
   "codemirror_mode": {
    "name": "ipython",
    "version": 3
   },
   "file_extension": ".py",
   "mimetype": "text/x-python",
   "name": "python",
   "nbconvert_exporter": "python",
   "pygments_lexer": "ipython3",
   "version": "3.11.7"
  }
 },
 "nbformat": 4,
 "nbformat_minor": 2
}
